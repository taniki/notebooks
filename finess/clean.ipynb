{
 "cells": [
  {
   "cell_type": "markdown",
   "id": "43f2e65e",
   "metadata": {},
   "source": [
    "# Production d'un csv utilisable de la base FINESS\n",
    "\n",
    "En l'état, l'export CSV de la [base FINESS][finess] n'est pas vraiment satisfaisant et utilisable.\n",
    "\n",
    "- Le fichier n'est pas réellement un CSV.\n",
    "    - Il est bizarrement découpé en deux sections qui correspondent au XML.\n",
    "    - Les colonnes n'ont pas de nom.\n",
    "- Le fichier est encodé au format windows.\n",
    "\n",
    "[finess]: https://www.data.gouv.fr/en/datasets/finess-extraction-du-fichier-des-etablissements/"
   ]
  },
  {
   "cell_type": "code",
   "execution_count": null,
   "id": "be92c340",
   "metadata": {
    "gradient": {
     "editing": false,
     "id": "4facc182",
     "kernelId": ""
    }
   },
   "outputs": [],
   "source": [
    "import pandas as pd\n",
    "import numpy as np\n",
    "import requests"
   ]
  },
  {
   "cell_type": "code",
   "execution_count": null,
   "id": "a7821b92",
   "metadata": {
    "gradient": {
     "editing": false,
     "id": "3f7b5d32",
     "kernelId": ""
    }
   },
   "outputs": [],
   "source": [
    "dataset_api = \"https://www.data.gouv.fr/api/1/datasets/finess-extraction-du-fichier-des-etablissements/\""
   ]
  },
  {
   "cell_type": "code",
   "execution_count": null,
   "id": "e3d1b3e4",
   "metadata": {
    "gradient": {
     "editing": false,
     "id": "58d641d4",
     "kernelId": ""
    }
   },
   "outputs": [],
   "source": [
    "resources = (requests\n",
    "    .get(dataset_api)\n",
    "    .json()\n",
    "    ['resources']\n",
    ")\n",
    "\n",
    "resource_geoloc = [ r for r in resources if r['type'] == 'main' and 'géolocalisés' in r['title']][0]"
   ]
  },
  {
   "cell_type": "code",
   "execution_count": null,
   "id": "596f22fc",
   "metadata": {
    "gradient": {
     "editing": false,
     "id": "13dd939b",
     "kernelId": ""
    }
   },
   "outputs": [],
   "source": [
    "headers = [\n",
    "    'section',\n",
    "    'nofinesset',\n",
    "    'nofinessej',\n",
    "    'rs',\n",
    "    'rslongue',\n",
    "    'complrs',\n",
    "    'compldistrib',\n",
    "    'numvoie',\n",
    "    'typvoie',\n",
    "    'voie',\n",
    "    'compvoie',\n",
    "    'lieuditbp',\n",
    "    'commune',\n",
    "    'departement',\n",
    "    'libdepartement',\n",
    "    'ligneacheminement',\n",
    "    'telephone',\n",
    "    'telecopie',\n",
    "    'categetab',\n",
    "    'libcategetab',\n",
    "    'categagretab',\n",
    "    'libcategagretab',\n",
    "    'siret',\n",
    "    'codeape',\n",
    "    'codemft',\n",
    "    'libmft',\n",
    "    'codesph',\n",
    "    'libsph',\n",
    "    'dateouv',\n",
    "    'dateautor',\n",
    "    'maj',\n",
    "    'numuai'\n",
    "]"
   ]
  },
  {
   "cell_type": "code",
   "execution_count": null,
   "id": "d42a4473",
   "metadata": {
    "gradient": {
     "editing": false,
     "id": "b68dac89",
     "kernelId": ""
    }
   },
   "outputs": [],
   "source": [
    "geoloc_names = [\n",
    "    'nofinesset',\n",
    "    'coordxet',\n",
    "    'coordyet',\n",
    "    'sourcecoordet',\n",
    "    'datemaj'\n",
    "]"
   ]
  },
  {
   "cell_type": "code",
   "execution_count": null,
   "id": "cdf25f03",
   "metadata": {
    "gradient": {
     "editing": false,
     "id": "4492d3dd",
     "kernelId": ""
    }
   },
   "outputs": [],
   "source": [
    "raw_df = (pd\n",
    "    .read_csv(resource_geoloc['url'],\n",
    "              sep=\";\", encoding=\"Windows-1252\", header=None, skiprows=1,\n",
    "              dtype='str',\n",
    "              names=headers)\n",
    "    .drop(columns=['section'])\n",
    ")\n",
    "\n",
    "raw_df"
   ]
  },
  {
   "cell_type": "code",
   "execution_count": null,
   "id": "7a46d4d2",
   "metadata": {
    "gradient": {
     "editing": false,
     "id": "2efc14bc",
     "kernelId": ""
    }
   },
   "outputs": [],
   "source": [
    "structures = (raw_df\n",
    "    .iloc[:int(raw_df.index.size/2)]\n",
    ")\n",
    "\n",
    "structures"
   ]
  },
  {
   "cell_type": "code",
   "execution_count": null,
   "id": "0c45bbd4",
   "metadata": {
    "gradient": {
     "editing": false,
     "id": "283be3bb",
     "kernelId": ""
    }
   },
   "outputs": [],
   "source": [
    "geolocalisations = (raw_df\n",
    "    .iloc[int(raw_df.index.size/2):]\n",
    "    .drop(columns=raw_df.columns[5:])\n",
    "    .rename(columns=lambda x: geoloc_names[list(raw_df.columns).index(x)])\n",
    ")\n",
    "\n",
    "geolocalisations"
   ]
  },
  {
   "cell_type": "code",
   "execution_count": null,
   "id": "fec68b4a",
   "metadata": {
    "gradient": {
     "editing": false,
     "id": "b54e527e",
     "kernelId": ""
    }
   },
   "outputs": [],
   "source": [
    "clean_df = (structures\n",
    "    .merge(geolocalisations, on=\"nofinesset\", how=\"left\")\n",
    ")\n",
    "\n",
    "clean_df"
   ]
  },
  {
   "cell_type": "code",
   "execution_count": null,
   "id": "e9d7f2a3",
   "metadata": {},
   "outputs": [],
   "source": [
    "clean_df.sample().T"
   ]
  },
  {
   "cell_type": "code",
   "execution_count": null,
   "id": "a4ab6a65",
   "metadata": {},
   "outputs": [],
   "source": [
    "clean_df[\"siret\"]"
   ]
  },
  {
   "cell_type": "markdown",
   "id": "546bf8dc",
   "metadata": {
    "gradient": {
     "editing": false,
     "id": "82306369-229c-418f-9138-d753e1b71ce4",
     "kernelId": ""
    }
   },
   "source": [
    "## Vérification de la qualité des données"
   ]
  },
  {
   "cell_type": "code",
   "execution_count": null,
   "id": "49726305",
   "metadata": {
    "gradient": {
     "editing": false,
     "id": "64975e82-5f97-4bb4-b1d3-8aed85fa37cd",
     "kernelId": "",
     "source_hidden": false
    },
    "jupyter": {
     "outputs_hidden": false
    }
   },
   "outputs": [],
   "source": [
    "intersection = pd.Series(np.intersect1d(structures.nofinesset.values, geolocalisations.nofinesset.values))\n",
    "\n",
    "intersection.shape"
   ]
  },
  {
   "cell_type": "code",
   "execution_count": null,
   "id": "f0e851ae",
   "metadata": {
    "gradient": {
     "editing": false,
     "id": "07e3c1cb-7032-4d83-833c-0979d2592f3c",
     "kernelId": "",
     "source_hidden": false
    },
    "jupyter": {
     "outputs_hidden": false
    }
   },
   "outputs": [],
   "source": [
    "only_structures = (structures\n",
    "    [ ~structures.nofinesset.isin(intersection) ]\n",
    ")\n",
    "\n",
    "only_structures"
   ]
  },
  {
   "cell_type": "code",
   "execution_count": null,
   "id": "2ef0f1f1",
   "metadata": {
    "gradient": {
     "editing": false,
     "id": "cfb13e95-b622-4d89-be56-61397dc4370e",
     "kernelId": "",
     "source_hidden": false
    },
    "jupyter": {
     "outputs_hidden": false
    }
   },
   "outputs": [],
   "source": [
    "only_geolocalisations = (geolocalisations\n",
    "    [ ~geolocalisations.nofinesset.isin(intersection) ]\n",
    ")\n",
    "\n",
    "only_geolocalisations"
   ]
  },
  {
   "cell_type": "code",
   "execution_count": null,
   "id": "fcd6b341",
   "metadata": {
    "gradient": {
     "editing": false,
     "id": "92cd9e34-74c8-454c-96d8-3c628e7b94bd",
     "kernelId": "",
     "source_hidden": false
    },
    "jupyter": {
     "outputs_hidden": false
    }
   },
   "outputs": [],
   "source": [
    "geolocalisations_missing = []"
   ]
  },
  {
   "cell_type": "markdown",
   "id": "1561e145",
   "metadata": {
    "gradient": {
     "editing": false,
     "id": "ff24d2da-6b7e-49ca-8ac9-cc1e90d32235",
     "kernelId": ""
    }
   },
   "source": [
    "## Export final"
   ]
  },
  {
   "cell_type": "code",
   "execution_count": null,
   "id": "abb0d6e6",
   "metadata": {
    "gradient": {
     "editing": false,
     "id": "8f6f3c73-4c14-4e82-ac63-cdf9ab8e4b21",
     "kernelId": "",
     "source_hidden": false
    },
    "jupyter": {
     "outputs_hidden": false
    }
   },
   "outputs": [],
   "source": [
    "clean_df.to_csv('finess-clean.csv', encoding='utf-8')"
   ]
  },
  {
   "cell_type": "code",
   "execution_count": null,
   "id": "833bd767",
   "metadata": {},
   "outputs": [],
   "source": []
  }
 ],
 "metadata": {
  "jupytext": {
   "encoding": "# -*- coding: utf-8 -*-",
   "formats": "ipynb,py:hydrogen",
   "text_representation": {
    "extension": ".py",
    "format_name": "hydrogen",
    "format_version": "1.3",
    "jupytext_version": "1.13.1"
   }
  },
  "kernelspec": {
   "display_name": "Python 3",
   "language": "python",
   "name": "python3"
  },
  "language_info": {
   "codemirror_mode": {
    "name": "ipython",
    "version": 3
   },
   "file_extension": ".py",
   "mimetype": "text/x-python",
   "name": "python",
   "nbconvert_exporter": "python",
   "pygments_lexer": "ipython3",
   "version": "3.9.9"
  }
 },
 "nbformat": 4,
 "nbformat_minor": 5
}
