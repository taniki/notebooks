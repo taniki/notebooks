{
 "cells": [
  {
   "cell_type": "code",
   "execution_count": 5,
   "id": "6e089d42",
   "metadata": {},
   "outputs": [],
   "source": [
    "import os\n",
    "import requests\n",
    "import datetime\n",
    "from dotenv import load_dotenv"
   ]
  },
  {
   "cell_type": "code",
   "execution_count": 21,
   "id": "9fd63d99",
   "metadata": {},
   "outputs": [
    {
     "data": {
      "text/plain": [
       "True"
      ]
     },
     "execution_count": 21,
     "metadata": {},
     "output_type": "execute_result"
    }
   ],
   "source": [
    "load_dotenv()"
   ]
  },
  {
   "cell_type": "code",
   "execution_count": 22,
   "id": "8084d96a",
   "metadata": {},
   "outputs": [],
   "source": [
    "api_key = os.getenv(\"DGFR_API_KEY\")"
   ]
  },
  {
   "cell_type": "code",
   "execution_count": 23,
   "id": "14c2adc4",
   "metadata": {},
   "outputs": [],
   "source": [
    "resource = \"3dc9b1d5-0157-440d-a7b5-c894fcfdfd45\""
   ]
  },
  {
   "cell_type": "code",
   "execution_count": 24,
   "id": "e4e5d3f1",
   "metadata": {},
   "outputs": [],
   "source": [
    "def publish(filename):\n",
    "    headers = {\n",
    "        'X-API-KEY': api_key,\n",
    "    }\n",
    "\n",
    "    resource_url = f'https://www.data.gouv.fr/api/1/datasets/community_resources/{resource}/upload/'\n",
    "\n",
    "    response = requests.post(resource_url, files={\n",
    "        'file': open(filename, 'rb'),\n",
    "    }, headers=headers)\n",
    "    \n",
    "    return response"
   ]
  },
  {
   "cell_type": "code",
   "execution_count": 25,
   "id": "54c57cf7",
   "metadata": {},
   "outputs": [],
   "source": [
    "result = publish('finess-clean.csv')"
   ]
  },
  {
   "cell_type": "markdown",
   "id": "be084e50",
   "metadata": {},
   "source": [
    "lien de téléchargement de la ressource : https://www.data.gouv.fr/en/datasets/r/3dc9b1d5-0157-440d-a7b5-c894fcfdfd45"
   ]
  },
  {
   "cell_type": "code",
   "execution_count": 26,
   "id": "618993d2",
   "metadata": {},
   "outputs": [
    {
     "data": {
      "text/plain": [
       "<Response [200]>"
      ]
     },
     "execution_count": 26,
     "metadata": {},
     "output_type": "execute_result"
    }
   ],
   "source": [
    "result"
   ]
  },
  {
   "cell_type": "code",
   "execution_count": null,
   "id": "6f57cb1d",
   "metadata": {},
   "outputs": [],
   "source": []
  }
 ],
 "metadata": {
  "jupytext": {
   "formats": "ipynb,auto:hydrogen"
  },
  "kernelspec": {
   "display_name": "Python 3",
   "language": "python",
   "name": "python3"
  },
  "language_info": {
   "codemirror_mode": {
    "name": "ipython",
    "version": 3
   },
   "file_extension": ".py",
   "mimetype": "text/x-python",
   "name": "python",
   "nbconvert_exporter": "python",
   "pygments_lexer": "ipython3",
   "version": "3.9.9"
  }
 },
 "nbformat": 4,
 "nbformat_minor": 5
}
