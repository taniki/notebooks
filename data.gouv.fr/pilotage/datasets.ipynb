{
 "cells": [
  {
   "cell_type": "markdown",
   "metadata": {},
   "source": [
    "# Les jeux de données sur data.gouv.fr"
   ]
  },
  {
   "cell_type": "code",
   "execution_count": null,
   "metadata": {},
   "outputs": [],
   "source": [
    "%run \"librairies.ipynb\""
   ]
  },
  {
   "cell_type": "code",
   "execution_count": null,
   "metadata": {},
   "outputs": [],
   "source": [
    "#source = \"https://www.data.gouv.fr/fr/datasets.csv?\"\n",
    "#source = \"data/datasets-2019-01-02-15-31.csv\"\n",
    "source = \"data/datasets.csv\""
   ]
  },
  {
   "cell_type": "code",
   "execution_count": null,
   "metadata": {},
   "outputs": [],
   "source": [
    "df = pd.read_csv(source, sep=\";\", parse_dates=[\"created_at\", \"last_modified\"])\n",
    "df = df.drop('resources', 1)\n",
    "df.head()"
   ]
  },
  {
   "cell_type": "code",
   "execution_count": null,
   "metadata": {},
   "outputs": [],
   "source": [
    "import datetime\n",
    "from bson import ObjectId\n",
    "#for row in df.iterrows():\n",
    "#    print(eval(row['extras']))\n",
    "\n",
    "df_ext = df['extras'].apply(lambda c: pd.Series(eval(c)))\n",
    "\n",
    "df = pd.concat([df, df_ext['harvest:domain']], axis=1);"
   ]
  },
  {
   "cell_type": "code",
   "execution_count": null,
   "metadata": {},
   "outputs": [],
   "source": [
    "df.count()"
   ]
  },
  {
   "cell_type": "markdown",
   "metadata": {},
   "source": [
    "## date de création"
   ]
  },
  {
   "cell_type": "code",
   "execution_count": null,
   "metadata": {},
   "outputs": [],
   "source": [
    "created_year = df.groupby(df.created_at.dt.year).agg('count')\n",
    "\n",
    "created_year"
   ]
  },
  {
   "cell_type": "markdown",
   "metadata": {},
   "source": [
    "### nouveaux jeux de données par année"
   ]
  },
  {
   "cell_type": "code",
   "execution_count": null,
   "metadata": {},
   "outputs": [],
   "source": [
    "alt.Chart(df).mark_bar().encode(\n",
    "    x=\"year:T\",\n",
    "    y=\"count(*):Q\"\n",
    ").transform_timeunit(\n",
    "    year='year(created_at)'\n",
    ")"
   ]
  },
  {
   "cell_type": "code",
   "execution_count": null,
   "metadata": {},
   "outputs": [],
   "source": [
    "alt.Chart(df).mark_area().encode(\n",
    "    x=\"created_at:T\",\n",
    "    y=\"cumulative_count:Q\"\n",
    ").transform_window(\n",
    "    window=[{ \"op\": \"count\", \"field\": \"count\", \"as\": \"cumulative_count\"}],\n",
    "    sort=[{'field': \"created_at\"}]\n",
    ")"
   ]
  },
  {
   "cell_type": "code",
   "execution_count": null,
   "metadata": {},
   "outputs": [],
   "source": [
    "alt.Chart(df[df['harvest:domain'].isnull()]).mark_area().encode(\n",
    "    x=\"created_at:T\",\n",
    "    y=\"cumulative_count:Q\"\n",
    ").transform_window(\n",
    "    window=[{ \"op\": \"count\", \"field\": \"count\", \"as\": \"cumulative_count\"}],\n",
    "    sort=[{'field': \"created_at\"}]\n",
    ")"
   ]
  },
  {
   "cell_type": "code",
   "execution_count": null,
   "metadata": {},
   "outputs": [],
   "source": [
    "alt.Chart(df).mark_line().encode(\n",
    "    alt.X(\n",
    "        \"month:T\",\n",
    "        axis=alt.Axis(format=\"%b\")\n",
    "    ),\n",
    "    y=\"count():Q\",\n",
    "    color=alt.Color(\n",
    "        \"year:O\"\n",
    "    ),\n",
    "    #row=\"year:O\"\n",
    ").transform_timeunit(\n",
    "    year='year(created_at)',\n",
    "    month='month(created_at)'\n",
    ")"
   ]
  },
  {
   "cell_type": "markdown",
   "metadata": {},
   "source": [
    "### 2018"
   ]
  },
  {
   "cell_type": "code",
   "execution_count": null,
   "metadata": {},
   "outputs": [],
   "source": [
    "main = alt.Chart(df[(df.created_at > '2018-01-01') & (df.created_at < '2019-01-01')]).mark_line().encode(\n",
    "    alt.X(\n",
    "        \"month:T\",\n",
    "        axis=alt.Axis(format=\"%b\")\n",
    "    ),\n",
    "    y=\"count():Q\"\n",
    ").transform_timeunit(\n",
    "    year='year(created_at)',\n",
    "    month='month(created_at)'\n",
    ")\n",
    "\n",
    "mean = alt.Chart(df[df.created_at < '2018-01-01']).mark_line(opacity=0.8, color=\"grey\").encode(\n",
    "    alt.X(\n",
    "        \"month:T\",\n",
    "        axis=alt.Axis(format=\"%b\")\n",
    "    ),\n",
    "    alt.Y(\n",
    "        \"mean(count):Q\"\n",
    "    )\n",
    ").transform_timeunit(\n",
    "    year='year(created_at)',\n",
    "    month='month(created_at)'\n",
    ").transform_aggregate(\n",
    "    groupby=[\"year\", \"month\"],\n",
    "    count = \"count()\"\n",
    ")\n",
    "\n",
    "mean + main"
   ]
  },
  {
   "cell_type": "code",
   "execution_count": null,
   "metadata": {},
   "outputs": [],
   "source": [
    "alt.Chart(df[(df.created_at >= '2018-07-01') & (df.created_at < '2018-08-01')]).mark_line().encode(\n",
    "    alt.X(\n",
    "        \"day:T\",\n",
    "        axis=alt.Axis(format=\"%d\")\n",
    "    ),\n",
    "    y=\"count():Q\",\n",
    "    color=\"year:O\"\n",
    ").transform_timeunit(\n",
    "    day='date(created_at)',\n",
    ")"
   ]
  },
  {
   "cell_type": "code",
   "execution_count": null,
   "metadata": {},
   "outputs": [],
   "source": [
    "df[(df.created_at >= '2018-07-16') & (df.created_at < '2018-07-17')].organization.value_counts()"
   ]
  },
  {
   "cell_type": "code",
   "execution_count": null,
   "metadata": {},
   "outputs": [],
   "source": [
    "df[(df.created_at >= '2018-07-18') & (df.created_at < '2018-07-19')].organization.value_counts()"
   ]
  },
  {
   "cell_type": "code",
   "execution_count": null,
   "metadata": {},
   "outputs": [],
   "source": [
    "df[(df.created_at >= '2018-07-31') & (df.created_at < '2018-08-01')].organization.value_counts()"
   ]
  },
  {
   "cell_type": "markdown",
   "metadata": {},
   "source": [
    "## mises à jour"
   ]
  },
  {
   "cell_type": "code",
   "execution_count": null,
   "metadata": {},
   "outputs": [],
   "source": [
    "alt.Chart(df).mark_bar().encode(\n",
    "    x=\"year:T\",\n",
    "    y=\"count():Q\"\n",
    ").transform_timeunit(\n",
    "    year='year(last_modified)'\n",
    ")"
   ]
  },
  {
   "cell_type": "code",
   "execution_count": null,
   "metadata": {},
   "outputs": [],
   "source": [
    "alt.Chart(df).mark_bar().encode(\n",
    "    alt.X(\n",
    "        \"yearmonth:T\",\n",
    "        axis=alt.Axis(format=\"%y-%m\")\n",
    "    ),\n",
    "    y=\"count:Q\"\n",
    ").transform_timeunit(\n",
    "    yearmonth='yearmonth(last_modified)'\n",
    ").transform_aggregate(\n",
    "    groupby=[\"yearmonth\"],\n",
    "    count = \"count()\"\n",
    ")"
   ]
  },
  {
   "cell_type": "markdown",
   "metadata": {},
   "source": [
    "### Durée de vie des jeux de données\n",
    "\n",
    "nombre de jours entre la dernière mise à jour et la date de création"
   ]
  },
  {
   "cell_type": "code",
   "execution_count": null,
   "metadata": {},
   "outputs": [],
   "source": [
    "df['lifespan'] = (df['last_modified'] - df['created_at']).dt.days"
   ]
  },
  {
   "cell_type": "code",
   "execution_count": null,
   "metadata": {},
   "outputs": [],
   "source": [
    "df[ df['lifespan'] < 0 ].count()"
   ]
  },
  {
   "cell_type": "code",
   "execution_count": null,
   "metadata": {},
   "outputs": [],
   "source": [
    "alt.Chart(df[ df['lifespan'] > 0 ]).mark_bar().encode(\n",
    "    x=alt.X(\"lifespan:Q\", bin=True),\n",
    "    y=alt.Y(\"count:Q\")\n",
    ").transform_aggregate(\n",
    "    groupby=[\"lifespan\"],\n",
    "    count = \"count()\"\n",
    ")"
   ]
  },
  {
   "cell_type": "code",
   "execution_count": null,
   "metadata": {},
   "outputs": [],
   "source": [
    "alt.Chart(df[ df['created_at'] < \"2019-01-01\"]).mark_circle().encode(\n",
    "    y = \"year(created_at):O\",\n",
    "    x = \"month(created_at):O\",\n",
    "    size=\"count():Q\",\n",
    "    color=\"mean(lifespan):Q\",\n",
    ")"
   ]
  },
  {
   "cell_type": "markdown",
   "metadata": {},
   "source": [
    "### Fraîcheur des jeux de données\n",
    "\n",
    "Nombre de jours depuis la dernière mise à jour"
   ]
  },
  {
   "cell_type": "code",
   "execution_count": null,
   "metadata": {},
   "outputs": [],
   "source": [
    "df['freshness'] = (pd.to_datetime('2019-01-10') - df['last_modified']).dt.days"
   ]
  },
  {
   "cell_type": "code",
   "execution_count": null,
   "metadata": {},
   "outputs": [],
   "source": [
    "df[df['freshness'] < 0].count()"
   ]
  },
  {
   "cell_type": "code",
   "execution_count": null,
   "metadata": {},
   "outputs": [],
   "source": [
    "alt.Chart(df[ df['freshness'] > 0 ]).mark_bar().encode(\n",
    "    x=alt.X(\"freshness:Q\", bin=True),\n",
    "    y=alt.Y(\"count:Q\")\n",
    ").transform_aggregate(\n",
    "    groupby=[\"freshness\"],\n",
    "    count = \"count()\"\n",
    ")"
   ]
  },
  {
   "cell_type": "code",
   "execution_count": null,
   "metadata": {},
   "outputs": [],
   "source": [
    "alt.Chart(df[ df['created_at'] < \"2019-01-01\"]).mark_circle().encode(\n",
    "    y = \"year(created_at):O\",\n",
    "    x = \"month(created_at):O\",\n",
    "    size=\"count():Q\",\n",
    "    color=\"mean(freshness):Q\",\n",
    ")"
   ]
  },
  {
   "cell_type": "code",
   "execution_count": null,
   "metadata": {},
   "outputs": [],
   "source": [
    "alt.Chart(df[ (df['freshness'] > 0) & (df['created_at'] < '2019-01-01')]).mark_bar().encode(\n",
    "    x=alt.X(\"freshness:Q\", bin=True),\n",
    "    y=alt.Y(\"count(*):Q\"),\n",
    "    row=\"year(created_at):O\"\n",
    ")"
   ]
  },
  {
   "cell_type": "markdown",
   "metadata": {},
   "source": [
    "### 2018"
   ]
  },
  {
   "cell_type": "code",
   "execution_count": null,
   "metadata": {},
   "outputs": [],
   "source": [
    "alt.Chart(df[(df.last_modified > '2018-01-01') & (df.last_modified < '2019-01-01')]).mark_bar().encode(\n",
    "    x=\"yearmonth:T\",\n",
    "    y=\"count:Q\"\n",
    ").transform_timeunit(\n",
    "    yearmonth='yearmonth(last_modified)'\n",
    ").transform_aggregate(\n",
    "    groupby=[\"yearmonth\"],\n",
    "    count = \"count()\"\n",
    ")"
   ]
  },
  {
   "cell_type": "markdown",
   "metadata": {},
   "source": [
    "## moissoneurs"
   ]
  },
  {
   "cell_type": "code",
   "execution_count": null,
   "metadata": {},
   "outputs": [],
   "source": [
    "df['harvest:domain'].isnull().head()"
   ]
  },
  {
   "cell_type": "code",
   "execution_count": null,
   "metadata": {},
   "outputs": [],
   "source": [
    "alt.Chart(df[ (df['freshness'] > 0) & (df['harvest:domain'].isnull())]).mark_bar().encode(\n",
    "    x=alt.X(\"freshness:Q\", bin=True),\n",
    "    y=alt.Y(\"count:Q\")\n",
    ").transform_aggregate(\n",
    "    groupby=[\"freshness\"],\n",
    "    count = \"count()\"\n",
    ")"
   ]
  },
  {
   "cell_type": "code",
   "execution_count": null,
   "metadata": {},
   "outputs": [],
   "source": [
    "alt.Chart(df[ (df['freshness'] > 0) & (df['created_at'] < '2019-01-01') & (df['harvest:domain'].isnull())]).mark_bar().encode(\n",
    "    x=alt.X(\"freshness:Q\", bin=True),\n",
    "    y=alt.Y(\"count(*):Q\"),\n",
    "    row=\"year(created_at):O\"\n",
    ")"
   ]
  },
  {
   "cell_type": "markdown",
   "metadata": {},
   "source": [
    "## jeux de données sans producteur"
   ]
  },
  {
   "cell_type": "code",
   "execution_count": null,
   "metadata": {},
   "outputs": [],
   "source": [
    "len(df[df['organization'].isnull() & df['owner'].isnull()])"
   ]
  },
  {
   "cell_type": "code",
   "execution_count": null,
   "metadata": {},
   "outputs": [],
   "source": [
    "df[ (df['organization'].isnull()) & (df['owner'].isnull()) ].to_csv('data/datasets-noorg-nouser.csv')"
   ]
  },
  {
   "cell_type": "code",
   "execution_count": null,
   "metadata": {},
   "outputs": [],
   "source": []
  }
 ],
 "metadata": {
  "kernelspec": {
   "display_name": "Python 3",
   "language": "python",
   "name": "python3"
  },
  "language_info": {
   "codemirror_mode": {
    "name": "ipython",
    "version": 3
   },
   "file_extension": ".py",
   "mimetype": "text/x-python",
   "name": "python",
   "nbconvert_exporter": "python",
   "pygments_lexer": "ipython3",
   "version": "3.7.6"
  },
  "nteract": {
   "version": "nteract-on-jupyter@1.9.15"
  }
 },
 "nbformat": 4,
 "nbformat_minor": 4
}
