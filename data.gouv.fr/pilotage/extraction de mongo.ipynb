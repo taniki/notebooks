{
 "cells": [
  {
   "cell_type": "markdown",
   "metadata": {},
   "source": [
    "# Extraction à partir de mongodb\n",
    "\n",
    "Ce notebook permet de générer les données nécessaires à la compilation des données.\n",
    "\n",
    "Cette procédure nécessite l'instanciation d'une base de donnés locale. Nous recommandons plutôt d'utiliser le jeu de données directement compilé et disponible sur data.gouv.fr : [inventaire du catalogue]()"
   ]
  },
  {
   "cell_type": "code",
   "execution_count": 3,
   "metadata": {},
   "outputs": [],
   "source": [
    "from pymongo import MongoClient\n",
    "import pandas as pd"
   ]
  },
  {
   "cell_type": "code",
   "execution_count": 4,
   "metadata": {},
   "outputs": [],
   "source": [
    "client = MongoClient()\n",
    "db = client.udata"
   ]
  },
  {
   "cell_type": "code",
   "execution_count": 5,
   "metadata": {},
   "outputs": [
    {
     "data": {
      "text/plain": [
       "['community_resource',\n",
       " 'geo_level',\n",
       " 'transfer',\n",
       " 'discussion',\n",
       " 'user',\n",
       " 'dataset',\n",
       " 'migrations',\n",
       " 'organization',\n",
       " 'oauth2_token',\n",
       " 'oauth2_grant',\n",
       " 'reuse',\n",
       " 'role',\n",
       " 'system.indexes',\n",
       " 'topic',\n",
       " 'issue',\n",
       " 'post',\n",
       " 'slug_follow',\n",
       " 'oauth2_client',\n",
       " 'tag',\n",
       " 'dataset_metric_keys',\n",
       " 'geo_zone',\n",
       " 'organization_metric_keys',\n",
       " 'harvest_job',\n",
       " 'harvester',\n",
       " 'zones_with_slashes',\n",
       " 'datasets_tags',\n",
       " 'site',\n",
       " 'harvest_source',\n",
       " 'metrics',\n",
       " 'activity',\n",
       " 'reuse_metric_keys',\n",
       " 'user_metric_keys',\n",
       " 'schedules',\n",
       " 'license',\n",
       " 'follow',\n",
       " 'reuses_tags']"
      ]
     },
     "execution_count": 5,
     "metadata": {},
     "output_type": "execute_result"
    }
   ],
   "source": [
    "collection = db.list_collection_names()\n",
    "\n",
    "collection"
   ]
  },
  {
   "cell_type": "code",
   "execution_count": 4,
   "metadata": {},
   "outputs": [
    {
     "data": {
      "text/plain": [
       "39677"
      ]
     },
     "execution_count": 4,
     "metadata": {},
     "output_type": "execute_result"
    }
   ],
   "source": [
    "db.dataset.count_documents({})"
   ]
  },
  {
   "cell_type": "code",
   "execution_count": 5,
   "metadata": {},
   "outputs": [
    {
     "data": {
      "text/plain": [
       "30143"
      ]
     },
     "execution_count": 5,
     "metadata": {},
     "output_type": "execute_result"
    }
   ],
   "source": [
    "db.dataset.count_documents({'private':False})"
   ]
  },
  {
   "cell_type": "code",
   "execution_count": 6,
   "metadata": {},
   "outputs": [
    {
     "data": {
      "text/plain": [
       "37751"
      ]
     },
     "execution_count": 6,
     "metadata": {},
     "output_type": "execute_result"
    }
   ],
   "source": [
    "db.dataset.count_documents({'resources': {'$gt': []}})"
   ]
  },
  {
   "cell_type": "markdown",
   "metadata": {},
   "source": [
    "## Compilation des jeux de données"
   ]
  },
  {
   "cell_type": "code",
   "execution_count": 7,
   "metadata": {},
   "outputs": [],
   "source": [
    "query = {}\n",
    "\n",
    "datasets = pd.DataFrame(list(db.dataset.find(query)))"
   ]
  },
  {
   "cell_type": "code",
   "execution_count": 8,
   "metadata": {},
   "outputs": [
    {
     "data": {
      "text/plain": [
       "_cls                 22505\n",
       "_id                  39677\n",
       "acronym                215\n",
       "badges               31131\n",
       "created_at           39677\n",
       "deleted                  2\n",
       "description          39671\n",
       "ext                  39677\n",
       "extras               39677\n",
       "featured             35050\n",
       "frequency            35193\n",
       "frequency_date        2578\n",
       "last_modified        39677\n",
       "license              37824\n",
       "metrics              39677\n",
       "organization         37688\n",
       "owner                 1551\n",
       "private              30823\n",
       "resources            39217\n",
       "slug                 39677\n",
       "spatial              26162\n",
       "tags                 39671\n",
       "temporal_coverage     3804\n",
       "title                39677\n",
       "dtype: int64"
      ]
     },
     "execution_count": 8,
     "metadata": {},
     "output_type": "execute_result"
    }
   ],
   "source": [
    "datasets.count()"
   ]
  },
  {
   "cell_type": "code",
   "execution_count": 9,
   "metadata": {},
   "outputs": [],
   "source": [
    "datasets.to_csv('data/datasets.csv', sep=\";\")"
   ]
  },
  {
   "cell_type": "markdown",
   "metadata": {},
   "source": [
    "## Compilation des ressources"
   ]
  },
  {
   "cell_type": "code",
   "execution_count": 10,
   "metadata": {},
   "outputs": [],
   "source": [
    "pipeline = [\n",
    "    {'$match': {'resources': {'$gt': []}}},\n",
    "    {'$unwind': '$resources'}\n",
    "]\n",
    "\n",
    "resources = pd.DataFrame([ { **x['resources'], 'dataset.id': x['_id'] } for x in list(db.dataset.aggregate(pipeline)) ])"
   ]
  },
  {
   "cell_type": "code",
   "execution_count": 11,
   "metadata": {},
   "outputs": [
    {
     "data": {
      "text/plain": [
       "_id            267273\n",
       "checksum        13284\n",
       "created_at     267273\n",
       "dataset.id     267274\n",
       "description    201777\n",
       "extras         259036\n",
       "filesize        13494\n",
       "filetype       267210\n",
       "format         266804\n",
       "metrics        267274\n",
       "mime            56856\n",
       "modified       267271\n",
       "published      267271\n",
       "title          267273\n",
       "type           199512\n",
       "url            267273\n",
       "urlhash        267198\n",
       "dtype: int64"
      ]
     },
     "execution_count": 11,
     "metadata": {},
     "output_type": "execute_result"
    }
   ],
   "source": [
    "resources.count()"
   ]
  },
  {
   "cell_type": "code",
   "execution_count": 12,
   "metadata": {},
   "outputs": [
    {
     "data": {
      "text/html": [
       "<div>\n",
       "<style scoped>\n",
       "    .dataframe tbody tr th:only-of-type {\n",
       "        vertical-align: middle;\n",
       "    }\n",
       "\n",
       "    .dataframe tbody tr th {\n",
       "        vertical-align: top;\n",
       "    }\n",
       "\n",
       "    .dataframe thead th {\n",
       "        text-align: right;\n",
       "    }\n",
       "</style>\n",
       "<table border=\"1\" class=\"dataframe\">\n",
       "  <thead>\n",
       "    <tr style=\"text-align: right;\">\n",
       "      <th></th>\n",
       "      <th>_id</th>\n",
       "      <th>checksum</th>\n",
       "      <th>created_at</th>\n",
       "      <th>dataset.id</th>\n",
       "      <th>description</th>\n",
       "      <th>extras</th>\n",
       "      <th>filesize</th>\n",
       "      <th>filetype</th>\n",
       "      <th>format</th>\n",
       "      <th>metrics</th>\n",
       "      <th>mime</th>\n",
       "      <th>modified</th>\n",
       "      <th>published</th>\n",
       "      <th>title</th>\n",
       "      <th>type</th>\n",
       "      <th>url</th>\n",
       "      <th>urlhash</th>\n",
       "    </tr>\n",
       "  </thead>\n",
       "  <tbody>\n",
       "    <tr>\n",
       "      <th>0</th>\n",
       "      <td>a0e4ea4e-9f86-43cf-90f7-a842d3314fea</td>\n",
       "      <td>NaN</td>\n",
       "      <td>2014-05-07 03:38:17.029</td>\n",
       "      <td>53698e89a3a729239d2034c0</td>\n",
       "      <td></td>\n",
       "      <td>{'check:available': True, 'check:count-availab...</td>\n",
       "      <td>NaN</td>\n",
       "      <td>file</td>\n",
       "      <td>csv</td>\n",
       "      <td>{'nb_uniq_visitors': 0, 'nb_visits': 0, 'nb_hi...</td>\n",
       "      <td>NaN</td>\n",
       "      <td>2014-01-06 10:39:47.676</td>\n",
       "      <td>2014-09-04 05:50:49.114</td>\n",
       "      <td></td>\n",
       "      <td>NaN</td>\n",
       "      <td>http://static.data.gouv.fr/b1/b3cfd71c4f756c86...</td>\n",
       "      <td>de99ab56743c9d42aa756eb899f8c1c8f0450861</td>\n",
       "    </tr>\n",
       "    <tr>\n",
       "      <th>1</th>\n",
       "      <td>1a7c68bf-6730-4a32-8858-bff8666a6deb</td>\n",
       "      <td>NaN</td>\n",
       "      <td>2014-05-07 04:16:00.245</td>\n",
       "      <td>53699760a3a729239d204c97</td>\n",
       "      <td>Plan TCL édition Février 2014. ©TCL</td>\n",
       "      <td>{'check:available': True, 'check:count-availab...</td>\n",
       "      <td>NaN</td>\n",
       "      <td>remote</td>\n",
       "      <td></td>\n",
       "      <td>{'nb_uniq_visitors': 0, 'nb_visits': 0, 'nb_hi...</td>\n",
       "      <td>NaN</td>\n",
       "      <td>2014-04-18 08:03:22.584</td>\n",
       "      <td>2014-09-04 06:45:43.692</td>\n",
       "      <td>Plan TCL</td>\n",
       "      <td>NaN</td>\n",
       "      <td>http://m.site.tcl.fr/var/tcl/storage/original/...</td>\n",
       "      <td>4443a111b7e04116f55d3d0147fa7bdd94efff27</td>\n",
       "    </tr>\n",
       "    <tr>\n",
       "      <th>2</th>\n",
       "      <td>c20a9b52-fc5d-463c-875f-37b2437862ce</td>\n",
       "      <td>NaN</td>\n",
       "      <td>2014-05-07 03:45:38.826</td>\n",
       "      <td>53699042a3a729239d20396d</td>\n",
       "      <td>Edition septembre 2013</td>\n",
       "      <td>NaN</td>\n",
       "      <td>NaN</td>\n",
       "      <td>file</td>\n",
       "      <td>xls</td>\n",
       "      <td>{'nb_uniq_visitors': 0, 'nb_visits': 0, 'nb_hi...</td>\n",
       "      <td>NaN</td>\n",
       "      <td>2014-02-26 16:07:56.956</td>\n",
       "      <td>2014-09-04 06:02:45.557</td>\n",
       "      <td>Catalogue des sites publics ouverts aux événem...</td>\n",
       "      <td>NaN</td>\n",
       "      <td>https://www.data.gouv.fr/storage/f/2014-02-26T...</td>\n",
       "      <td>89888a28038dac186e4935d591c79aff637f3c02</td>\n",
       "    </tr>\n",
       "    <tr>\n",
       "      <th>3</th>\n",
       "      <td>d8d29b76-0972-4378-9ed4-b55ec289933e</td>\n",
       "      <td>NaN</td>\n",
       "      <td>2014-05-07 04:16:26.482</td>\n",
       "      <td>5369977aa3a729239d204cdb</td>\n",
       "      <td></td>\n",
       "      <td>NaN</td>\n",
       "      <td>NaN</td>\n",
       "      <td>file</td>\n",
       "      <td>csv</td>\n",
       "      <td>{'nb_uniq_visitors': 0, 'nb_visits': 0, 'nb_hi...</td>\n",
       "      <td>NaN</td>\n",
       "      <td>2014-01-07 14:54:04.981</td>\n",
       "      <td>2014-09-04 06:46:25.526</td>\n",
       "      <td>jeux-de-donnees-mairie-de-toulouse-tm.txt</td>\n",
       "      <td>NaN</td>\n",
       "      <td>https://www.data.gouv.fr/storage/f/2013-11-20T...</td>\n",
       "      <td>294de60a9164ac5806346831563fdb4891e63ef7</td>\n",
       "    </tr>\n",
       "    <tr>\n",
       "      <th>4</th>\n",
       "      <td>1c4d1524-1145-4b15-9d88-ddbe06d31427</td>\n",
       "      <td>NaN</td>\n",
       "      <td>2014-05-07 03:39:25.985</td>\n",
       "      <td>53698ecda3a729239d203583</td>\n",
       "      <td>données de gonflemnt des argiles</td>\n",
       "      <td>{'check:available': True, 'check:count-availab...</td>\n",
       "      <td>NaN</td>\n",
       "      <td>remote</td>\n",
       "      <td>mif−mid</td>\n",
       "      <td>{'nb_uniq_visitors': 0, 'nb_visits': 0, 'nb_hi...</td>\n",
       "      <td>NaN</td>\n",
       "      <td>2014-03-20 16:26:57.324</td>\n",
       "      <td>2014-09-04 05:52:15.675</td>\n",
       "      <td></td>\n",
       "      <td>NaN</td>\n",
       "      <td>http://www.argiles.fr/donneesDownload.asp</td>\n",
       "      <td>d46eb17075c988e410eb1c07b469851ee8d226f2</td>\n",
       "    </tr>\n",
       "  </tbody>\n",
       "</table>\n",
       "</div>"
      ],
      "text/plain": [
       "                                    _id checksum              created_at  \\\n",
       "0  a0e4ea4e-9f86-43cf-90f7-a842d3314fea      NaN 2014-05-07 03:38:17.029   \n",
       "1  1a7c68bf-6730-4a32-8858-bff8666a6deb      NaN 2014-05-07 04:16:00.245   \n",
       "2  c20a9b52-fc5d-463c-875f-37b2437862ce      NaN 2014-05-07 03:45:38.826   \n",
       "3  d8d29b76-0972-4378-9ed4-b55ec289933e      NaN 2014-05-07 04:16:26.482   \n",
       "4  1c4d1524-1145-4b15-9d88-ddbe06d31427      NaN 2014-05-07 03:39:25.985   \n",
       "\n",
       "                 dataset.id                          description  \\\n",
       "0  53698e89a3a729239d2034c0                                        \n",
       "1  53699760a3a729239d204c97  Plan TCL édition Février 2014. ©TCL   \n",
       "2  53699042a3a729239d20396d               Edition septembre 2013   \n",
       "3  5369977aa3a729239d204cdb                                        \n",
       "4  53698ecda3a729239d203583     données de gonflemnt des argiles   \n",
       "\n",
       "                                              extras  filesize filetype  \\\n",
       "0  {'check:available': True, 'check:count-availab...       NaN     file   \n",
       "1  {'check:available': True, 'check:count-availab...       NaN   remote   \n",
       "2                                                NaN       NaN     file   \n",
       "3                                                NaN       NaN     file   \n",
       "4  {'check:available': True, 'check:count-availab...       NaN   remote   \n",
       "\n",
       "    format                                            metrics mime  \\\n",
       "0      csv  {'nb_uniq_visitors': 0, 'nb_visits': 0, 'nb_hi...  NaN   \n",
       "1           {'nb_uniq_visitors': 0, 'nb_visits': 0, 'nb_hi...  NaN   \n",
       "2      xls  {'nb_uniq_visitors': 0, 'nb_visits': 0, 'nb_hi...  NaN   \n",
       "3      csv  {'nb_uniq_visitors': 0, 'nb_visits': 0, 'nb_hi...  NaN   \n",
       "4  mif−mid  {'nb_uniq_visitors': 0, 'nb_visits': 0, 'nb_hi...  NaN   \n",
       "\n",
       "                 modified               published  \\\n",
       "0 2014-01-06 10:39:47.676 2014-09-04 05:50:49.114   \n",
       "1 2014-04-18 08:03:22.584 2014-09-04 06:45:43.692   \n",
       "2 2014-02-26 16:07:56.956 2014-09-04 06:02:45.557   \n",
       "3 2014-01-07 14:54:04.981 2014-09-04 06:46:25.526   \n",
       "4 2014-03-20 16:26:57.324 2014-09-04 05:52:15.675   \n",
       "\n",
       "                                               title type  \\\n",
       "0                                                     NaN   \n",
       "1                                           Plan TCL  NaN   \n",
       "2  Catalogue des sites publics ouverts aux événem...  NaN   \n",
       "3          jeux-de-donnees-mairie-de-toulouse-tm.txt  NaN   \n",
       "4                                                     NaN   \n",
       "\n",
       "                                                 url  \\\n",
       "0  http://static.data.gouv.fr/b1/b3cfd71c4f756c86...   \n",
       "1  http://m.site.tcl.fr/var/tcl/storage/original/...   \n",
       "2  https://www.data.gouv.fr/storage/f/2014-02-26T...   \n",
       "3  https://www.data.gouv.fr/storage/f/2013-11-20T...   \n",
       "4          http://www.argiles.fr/donneesDownload.asp   \n",
       "\n",
       "                                    urlhash  \n",
       "0  de99ab56743c9d42aa756eb899f8c1c8f0450861  \n",
       "1  4443a111b7e04116f55d3d0147fa7bdd94efff27  \n",
       "2  89888a28038dac186e4935d591c79aff637f3c02  \n",
       "3  294de60a9164ac5806346831563fdb4891e63ef7  \n",
       "4  d46eb17075c988e410eb1c07b469851ee8d226f2  "
      ]
     },
     "execution_count": 12,
     "metadata": {},
     "output_type": "execute_result"
    }
   ],
   "source": [
    "resources.head()"
   ]
  },
  {
   "cell_type": "code",
   "execution_count": 13,
   "metadata": {},
   "outputs": [],
   "source": [
    "resources.to_csv('data/resources.csv', sep=\";\")"
   ]
  },
  {
   "cell_type": "markdown",
   "metadata": {},
   "source": [
    "## Compilation des réutilisations"
   ]
  },
  {
   "cell_type": "code",
   "execution_count": 14,
   "metadata": {},
   "outputs": [],
   "source": [
    "query = {}\n",
    "\n",
    "reuses = pd.DataFrame(list(db.reuse.find(query)))"
   ]
  },
  {
   "cell_type": "code",
   "execution_count": 15,
   "metadata": {},
   "outputs": [
    {
     "data": {
      "text/plain": [
       "_cls             1759\n",
       "_id              2355\n",
       "badges           1178\n",
       "created_at       2355\n",
       "datasets         2350\n",
       "description      2355\n",
       "ext              2355\n",
       "extras           1587\n",
       "featured          960\n",
       "image            2140\n",
       "image_url         866\n",
       "last_modified    2355\n",
       "metrics          2355\n",
       "organization      631\n",
       "owner            1767\n",
       "private          1552\n",
       "slug             2355\n",
       "tags             2355\n",
       "title            2355\n",
       "type             2355\n",
       "url              2355\n",
       "urlhash          2355\n",
       "dtype: int64"
      ]
     },
     "execution_count": 15,
     "metadata": {},
     "output_type": "execute_result"
    }
   ],
   "source": [
    "reuses.count()"
   ]
  },
  {
   "cell_type": "code",
   "execution_count": 16,
   "metadata": {},
   "outputs": [],
   "source": [
    "reuses.to_csv('data/reuses.csv', sep=\";\")"
   ]
  },
  {
   "cell_type": "markdown",
   "metadata": {},
   "source": [
    "## Compilation des organisations"
   ]
  },
  {
   "cell_type": "code",
   "execution_count": 17,
   "metadata": {},
   "outputs": [],
   "source": [
    "query = {}\n",
    "\n",
    "organizations = pd.DataFrame(list(db.organization.find(query)))"
   ]
  },
  {
   "cell_type": "code",
   "execution_count": 18,
   "metadata": {},
   "outputs": [
    {
     "data": {
      "text/plain": [
       "_cls             1142\n",
       "_id              2021\n",
       "acronym          1002\n",
       "badges           1775\n",
       "created_at       2021\n",
       "description      2021\n",
       "ext              2021\n",
       "extras           2021\n",
       "image_url         311\n",
       "last_modified    2021\n",
       "logo             1767\n",
       "members          2001\n",
       "metrics          2021\n",
       "name             2021\n",
       "requests         1869\n",
       "slug             2021\n",
       "teams            2021\n",
       "url              1475\n",
       "zone                2\n",
       "dtype: int64"
      ]
     },
     "execution_count": 18,
     "metadata": {},
     "output_type": "execute_result"
    }
   ],
   "source": [
    "organizations.count()"
   ]
  },
  {
   "cell_type": "code",
   "execution_count": 19,
   "metadata": {},
   "outputs": [],
   "source": [
    "organizations.to_csv('data/organizations.csv', sep=\";\")"
   ]
  },
  {
   "cell_type": "markdown",
   "metadata": {},
   "source": [
    "## Compilation des discussions"
   ]
  },
  {
   "cell_type": "code",
   "execution_count": 6,
   "metadata": {},
   "outputs": [],
   "source": [
    "query = {}\n",
    "\n",
    "discussions = pd.DataFrame(list(db.discussion.find(query)))"
   ]
  },
  {
   "cell_type": "code",
   "execution_count": 7,
   "metadata": {},
   "outputs": [
    {
     "data": {
      "text/plain": [
       "_id           3111\n",
       "closed         544\n",
       "closed_by      544\n",
       "created       3111\n",
       "discussion    3111\n",
       "extras        1464\n",
       "subject       3111\n",
       "title         3111\n",
       "user          3111\n",
       "dtype: int64"
      ]
     },
     "execution_count": 7,
     "metadata": {},
     "output_type": "execute_result"
    }
   ],
   "source": [
    "discussions.count()"
   ]
  },
  {
   "cell_type": "code",
   "execution_count": 8,
   "metadata": {},
   "outputs": [],
   "source": [
    "discussions.to_csv('data/discussions.csv', sep=\";\")"
   ]
  },
  {
   "cell_type": "code",
   "execution_count": 9,
   "metadata": {},
   "outputs": [
    {
     "data": {
      "text/html": [
       "<div>\n",
       "<style scoped>\n",
       "    .dataframe tbody tr th:only-of-type {\n",
       "        vertical-align: middle;\n",
       "    }\n",
       "\n",
       "    .dataframe tbody tr th {\n",
       "        vertical-align: top;\n",
       "    }\n",
       "\n",
       "    .dataframe thead th {\n",
       "        text-align: right;\n",
       "    }\n",
       "</style>\n",
       "<table border=\"1\" class=\"dataframe\">\n",
       "  <thead>\n",
       "    <tr style=\"text-align: right;\">\n",
       "      <th></th>\n",
       "      <th>_id</th>\n",
       "      <th>closed</th>\n",
       "      <th>closed_by</th>\n",
       "      <th>created</th>\n",
       "      <th>discussion</th>\n",
       "      <th>extras</th>\n",
       "      <th>subject</th>\n",
       "      <th>title</th>\n",
       "      <th>user</th>\n",
       "    </tr>\n",
       "  </thead>\n",
       "  <tbody>\n",
       "    <tr>\n",
       "      <th>0</th>\n",
       "      <td>5566b28754b314fff698bbc2</td>\n",
       "      <td>NaT</td>\n",
       "      <td>None</td>\n",
       "      <td>2014-09-17 15:15:44.174</td>\n",
       "      <td>[{'content': 'téléchargement impossible', 'pos...</td>\n",
       "      <td>NaN</td>\n",
       "      <td>{'_cls': 'Dataset', '_ref': DBRef('dataset', O...</td>\n",
       "      <td>téléchargement impossible</td>\n",
       "      <td>5419884dc751df2afa6125af</td>\n",
       "    </tr>\n",
       "    <tr>\n",
       "      <th>1</th>\n",
       "      <td>5566b28754b314fff698bbc3</td>\n",
       "      <td>NaT</td>\n",
       "      <td>None</td>\n",
       "      <td>2014-09-18 15:53:41.626</td>\n",
       "      <td>[{'content': 'lien 404', 'posted_on': 2014-09-...</td>\n",
       "      <td>NaN</td>\n",
       "      <td>{'_cls': 'Dataset', '_ref': DBRef('dataset', O...</td>\n",
       "      <td>lien 404</td>\n",
       "      <td>534fff48a3a7292c64a77b50</td>\n",
       "    </tr>\n",
       "    <tr>\n",
       "      <th>2</th>\n",
       "      <td>5566b28754b314fff698bbc4</td>\n",
       "      <td>NaT</td>\n",
       "      <td>None</td>\n",
       "      <td>2014-09-19 09:08:07.066</td>\n",
       "      <td>[{'content': 'par rapport au site du ministère...</td>\n",
       "      <td>NaN</td>\n",
       "      <td>{'_cls': 'Dataset', '_ref': DBRef('dataset', O...</td>\n",
       "      <td>par rapport au site du ministère (et au doc pd...</td>\n",
       "      <td>534fff42a3a7292c64a7783c</td>\n",
       "    </tr>\n",
       "    <tr>\n",
       "      <th>3</th>\n",
       "      <td>5566b28754b314fff698bbc8</td>\n",
       "      <td>NaT</td>\n",
       "      <td>None</td>\n",
       "      <td>2013-12-18 18:17:31.356</td>\n",
       "      <td>[{'content': 'Erreur d'URL sur le document \"Pr...</td>\n",
       "      <td>NaN</td>\n",
       "      <td>{'_cls': 'Dataset', '_ref': DBRef('dataset', O...</td>\n",
       "      <td>Erreur d'URL sur le document \"Principaux indic...</td>\n",
       "      <td>534fff40a3a7292c64a7767f</td>\n",
       "    </tr>\n",
       "    <tr>\n",
       "      <th>4</th>\n",
       "      <td>5566b28754b314fff698bbc9</td>\n",
       "      <td>NaT</td>\n",
       "      <td>None</td>\n",
       "      <td>2013-12-18 22:26:47.529</td>\n",
       "      <td>[{'content': 'Le lien pour télécharger les don...</td>\n",
       "      <td>NaN</td>\n",
       "      <td>{'_cls': 'Dataset', '_ref': DBRef('dataset', O...</td>\n",
       "      <td>Le lien pour télécharger les données ne foncti...</td>\n",
       "      <td>534fff3fa3a7292c64a77653</td>\n",
       "    </tr>\n",
       "  </tbody>\n",
       "</table>\n",
       "</div>"
      ],
      "text/plain": [
       "                        _id closed closed_by                 created  \\\n",
       "0  5566b28754b314fff698bbc2    NaT      None 2014-09-17 15:15:44.174   \n",
       "1  5566b28754b314fff698bbc3    NaT      None 2014-09-18 15:53:41.626   \n",
       "2  5566b28754b314fff698bbc4    NaT      None 2014-09-19 09:08:07.066   \n",
       "3  5566b28754b314fff698bbc8    NaT      None 2013-12-18 18:17:31.356   \n",
       "4  5566b28754b314fff698bbc9    NaT      None 2013-12-18 22:26:47.529   \n",
       "\n",
       "                                          discussion extras  \\\n",
       "0  [{'content': 'téléchargement impossible', 'pos...    NaN   \n",
       "1  [{'content': 'lien 404', 'posted_on': 2014-09-...    NaN   \n",
       "2  [{'content': 'par rapport au site du ministère...    NaN   \n",
       "3  [{'content': 'Erreur d'URL sur le document \"Pr...    NaN   \n",
       "4  [{'content': 'Le lien pour télécharger les don...    NaN   \n",
       "\n",
       "                                             subject  \\\n",
       "0  {'_cls': 'Dataset', '_ref': DBRef('dataset', O...   \n",
       "1  {'_cls': 'Dataset', '_ref': DBRef('dataset', O...   \n",
       "2  {'_cls': 'Dataset', '_ref': DBRef('dataset', O...   \n",
       "3  {'_cls': 'Dataset', '_ref': DBRef('dataset', O...   \n",
       "4  {'_cls': 'Dataset', '_ref': DBRef('dataset', O...   \n",
       "\n",
       "                                               title                      user  \n",
       "0                          téléchargement impossible  5419884dc751df2afa6125af  \n",
       "1                                           lien 404  534fff48a3a7292c64a77b50  \n",
       "2  par rapport au site du ministère (et au doc pd...  534fff42a3a7292c64a7783c  \n",
       "3  Erreur d'URL sur le document \"Principaux indic...  534fff40a3a7292c64a7767f  \n",
       "4  Le lien pour télécharger les données ne foncti...  534fff3fa3a7292c64a77653  "
      ]
     },
     "execution_count": 9,
     "metadata": {},
     "output_type": "execute_result"
    }
   ],
   "source": [
    "discussions.head()"
   ]
  },
  {
   "cell_type": "code",
   "execution_count": null,
   "metadata": {},
   "outputs": [],
   "source": []
  }
 ],
 "metadata": {
  "kernelspec": {
   "display_name": "Python 3",
   "language": "python",
   "name": "python3"
  },
  "language_info": {
   "codemirror_mode": {
    "name": "ipython",
    "version": 3
   },
   "file_extension": ".py",
   "mimetype": "text/x-python",
   "name": "python",
   "nbconvert_exporter": "python",
   "pygments_lexer": "ipython3",
   "version": "3.7.6"
  }
 },
 "nbformat": 4,
 "nbformat_minor": 4
}
