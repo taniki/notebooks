{
 "cells": [
  {
   "cell_type": "code",
   "execution_count": 1,
   "id": "c7437aa9",
   "metadata": {},
   "outputs": [
    {
     "data": {
      "text/plain": [
       "'https://www.senat.fr/espace_presse/actualites/202203/influence_des_cabinets_de_conseil_prives_sur_les_politiques_publiques.html'"
      ]
     },
     "execution_count": 1,
     "metadata": {},
     "output_type": "execute_result"
    }
   ],
   "source": [
    "source = \"https://www.senat.fr/espace_presse/actualites/202203/influence_des_cabinets_de_conseil_prives_sur_les_politiques_publiques.html\""
   ]
  },
  {
   "cell_type": "code",
   "execution_count": 2,
   "id": "cca5d518",
   "metadata": {},
   "outputs": [],
   "source": [
    "import requests\n",
    "from bs4 import BeautifulSoup\n",
    "import os"
   ]
  },
  {
   "cell_type": "code",
   "execution_count": 3,
   "id": "d198850e",
   "metadata": {},
   "outputs": [
    {
     "data": {
      "text/plain": [
       "<Response [200]>"
      ]
     },
     "execution_count": 3,
     "metadata": {},
     "output_type": "execute_result"
    }
   ],
   "source": [
    "req = requests.get(source)\n",
    "\n",
    "req"
   ]
  },
  {
   "cell_type": "code",
   "execution_count": 4,
   "id": "e0252e9a",
   "metadata": {},
   "outputs": [],
   "source": [
    "html = BeautifulSoup(req.text, 'html.parser')"
   ]
  },
  {
   "cell_type": "code",
   "execution_count": 5,
   "id": "11567321",
   "metadata": {},
   "outputs": [
    {
     "data": {
      "text/plain": [
       "['/fileadmin/Fichiers/Images/commission/finances/CE_Cabinets_de_conseil/Liste_prestations/Affaires_etrangeres_SG.XLSX',\n",
       " '/fileadmin/Fichiers/Images/commission/finances/CE_Cabinets_de_conseil/Liste_prestations/Affaires_sociales-_SG.xlsx',\n",
       " '/fileadmin/Fichiers/Images/commission/finances/CE_Cabinets_de_conseil/Liste_prestations/Agriculture_-SG.xlsx',\n",
       " '/fileadmin/Fichiers/Images/commission/finances/CE_Cabinets_de_conseil/Liste_prestations/Bercy-_SG.XLSX',\n",
       " '/fileadmin/Fichiers/Images/commission/finances/CE_Cabinets_de_conseil/Liste_prestations/Culture_-_SG.xlsx',\n",
       " '/fileadmin/Fichiers/Images/commission/finances/CE_Cabinets_de_conseil/Liste_prestations/DITP.xlsx',\n",
       " '/fileadmin/Fichiers/Images/commission/finances/CE_Cabinets_de_conseil/Liste_prestations/Education_nationale-_SG.xlsx',\n",
       " '/fileadmin/Fichiers/Images/commission/finances/CE_Cabinets_de_conseil/Liste_prestations/Environnement_-_SG.xlsx',\n",
       " '/fileadmin/Fichiers/Images/commission/finances/CE_Cabinets_de_conseil/Liste_prestations/Interieur-SG.xlsx',\n",
       " '/fileadmin/Fichiers/Images/commission/finances/CE_Cabinets_de_conseil/Liste_prestations/Justice_-_SG.xlsx',\n",
       " '/fileadmin/Fichiers/Images/commission/finances/CE_Cabinets_de_conseil/Liste_prestations/Ministere_des_Armees-SG.xls',\n",
       " '/fileadmin/Fichiers/Images/commission/finances/CE_Cabinets_de_conseil/Liste_prestations/SGG-_Autres_services.xlsx',\n",
       " '/fileadmin/Fichiers/Images/commission/finances/CE_Cabinets_de_conseil/Liste_prestations/SGG-_DILA.xlsx',\n",
       " '/fileadmin/Fichiers/Images/commission/finances/CE_Cabinets_de_conseil/Liste_prestations/SGG-_DSAF.xlsx',\n",
       " '/fileadmin/Fichiers/Images/commission/finances/CE_Cabinets_de_conseil/Liste_prestations/SGG-DINUM.xlsx']"
      ]
     },
     "execution_count": 5,
     "metadata": {},
     "output_type": "execute_result"
    }
   ],
   "source": [
    "xlsxs = [ a['href'] for a in html.find_all('a', href=True) if a['href'].lower().endswith('xlsx') or a['href'].lower().endswith('xls') ]\n",
    "\n",
    "xlsxs"
   ]
  },
  {
   "cell_type": "code",
   "execution_count": 6,
   "id": "85995d79",
   "metadata": {},
   "outputs": [
    {
     "data": {
      "text/plain": [
       "15"
      ]
     },
     "execution_count": 6,
     "metadata": {},
     "output_type": "execute_result"
    }
   ],
   "source": [
    "len(xlsxs)"
   ]
  },
  {
   "cell_type": "code",
   "execution_count": 7,
   "id": "ec378290",
   "metadata": {},
   "outputs": [
    {
     "data": {
      "text/plain": [
       "'https://www.senat.fr'"
      ]
     },
     "execution_count": 7,
     "metadata": {},
     "output_type": "execute_result"
    }
   ],
   "source": [
    "base = '/'.join(source.split('/')[:3])\n",
    "\n",
    "base"
   ]
  },
  {
   "cell_type": "code",
   "execution_count": 8,
   "id": "58e53951",
   "metadata": {},
   "outputs": [
    {
     "name": "stdout",
     "output_type": "stream",
     "text": [
      "le répertoire `files` existe déja\n"
     ]
    }
   ],
   "source": [
    "try:\n",
    "    os.mkdir('files')\n",
    "except:\n",
    "    print('le répertoire `files` existe déja')"
   ]
  },
  {
   "cell_type": "code",
   "execution_count": 9,
   "id": "1db1beed",
   "metadata": {},
   "outputs": [],
   "source": [
    "for name in xlsxs:\n",
    "    url = f'{base}{name}'\n",
    "    r = requests.get(url, allow_redirects=True)\n",
    "    filename = f'files/{name.split(\"/\")[-1]}'\n",
    "    open(filename, 'wb').write(r.content)"
   ]
  },
  {
   "cell_type": "code",
   "execution_count": null,
   "id": "a98f7afb",
   "metadata": {},
   "outputs": [],
   "source": []
  }
 ],
 "metadata": {
  "kernelspec": {
   "display_name": "Python 3",
   "language": "python",
   "name": "python3"
  },
  "language_info": {
   "codemirror_mode": {
    "name": "ipython",
    "version": 3
   },
   "file_extension": ".py",
   "mimetype": "text/x-python",
   "name": "python",
   "nbconvert_exporter": "python",
   "pygments_lexer": "ipython3",
   "version": "3.9.9"
  }
 },
 "nbformat": 4,
 "nbformat_minor": 5
}
