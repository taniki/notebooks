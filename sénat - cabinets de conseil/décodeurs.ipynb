{
 "cells": [
  {
   "cell_type": "code",
   "execution_count": 1,
   "id": "e7e754ec",
   "metadata": {},
   "outputs": [],
   "source": [
    "url = \"https://assets-decodeurs.lemonde.fr/decodeurs/assets/[D%C3%A9codeurs]%20Liste%20des%20missions%20de%20conseil/[De%CC%81codeurs]_Consultocratie___la_liste_des_missions_-_Listes_des_missions.csv\""
   ]
  },
  {
   "cell_type": "code",
   "execution_count": 2,
   "id": "04781478",
   "metadata": {},
   "outputs": [],
   "source": [
    "import pandas as pd"
   ]
  },
  {
   "cell_type": "code",
   "execution_count": 3,
   "id": "b5e530fd",
   "metadata": {},
   "outputs": [],
   "source": [
    "def pretty(styler):\n",
    "    styler.format(precision=2, thousands=\" \")\n",
    "    return styler"
   ]
  },
  {
   "cell_type": "code",
   "execution_count": 4,
   "id": "7b06f974",
   "metadata": {},
   "outputs": [],
   "source": [
    "pd.set_option(\"display.float_format\", lambda x: '{:,.2f}'.format(x).replace(\",\", \" \"))"
   ]
  },
  {
   "cell_type": "code",
   "execution_count": 5,
   "id": "bc758582",
   "metadata": {},
   "outputs": [],
   "source": [
    "df = pd.read_csv(url, dtype=\"string\")"
   ]
  },
  {
   "cell_type": "code",
   "execution_count": 6,
   "id": "1cea7362",
   "metadata": {},
   "outputs": [
    {
     "data": {
      "text/plain": [
       "Source                     string\n",
       "Intitulé court             string\n",
       "Intitulé long              string\n",
       "Détails                    string\n",
       "Catégorie                  string\n",
       "Acheteur                   string\n",
       "Ministère rattachement     string\n",
       "Type entité                string\n",
       "Cabinet attributaire       string\n",
       "Année                      string\n",
       "Date d'attribution         string\n",
       "Montant (€)               float64\n",
       "HT ou TTC                  string\n",
       "lien source                string\n",
       "dtype: object"
      ]
     },
     "execution_count": 6,
     "metadata": {},
     "output_type": "execute_result"
    }
   ],
   "source": [
    "missions = (df\n",
    "    .assign(**{\n",
    "        \"Montant (€)\": lambda df: df[\"Montant (€)\"].str.replace(\" \",\"\")\n",
    "    })\n",
    "    .astype({\n",
    "        \"Montant (€)\": \"float64\"\n",
    "    })\n",
    ")\n",
    "\n",
    "missions.dtypes"
   ]
  },
  {
   "cell_type": "code",
   "execution_count": 7,
   "id": "0dca5acd",
   "metadata": {},
   "outputs": [
    {
     "data": {
      "text/plain": [
       "CE       1331\n",
       "BOAMP     169\n",
       "DECP       81\n",
       "Autre       2\n",
       "Name: Source, dtype: Int64"
      ]
     },
     "execution_count": 7,
     "metadata": {},
     "output_type": "execute_result"
    }
   ],
   "source": [
    "missions[\"Source\"].value_counts()"
   ]
  },
  {
   "cell_type": "code",
   "execution_count": 8,
   "id": "18e354a8",
   "metadata": {},
   "outputs": [
    {
     "data": {
      "text/plain": [
       "Economie                               325\n",
       "Santé                                  235\n",
       "Matignon                               205\n",
       "Armées                                 144\n",
       "Transformation et Fonction publique    111\n",
       "Agriculture                            110\n",
       "Ecologie                                93\n",
       "Travail                                 87\n",
       "Justice                                 59\n",
       "Culture                                 51\n",
       "Intérieur                               50\n",
       "Education Nationale                     29\n",
       "Affaires étrangères                     20\n",
       "Transformation et Fonction Publique      6\n",
       "Cohésion des territoires                 5\n",
       "Enseignement Supérieur                   4\n",
       "Transports                               1\n",
       "Name: Ministère rattachement, dtype: Int64"
      ]
     },
     "execution_count": 8,
     "metadata": {},
     "output_type": "execute_result"
    }
   ],
   "source": [
    "missions[\"Ministère rattachement\"].value_counts()"
   ]
  },
  {
   "cell_type": "code",
   "execution_count": 9,
   "id": "8e221406",
   "metadata": {},
   "outputs": [
    {
     "data": {
      "text/plain": [
       "0       False\n",
       "1       False\n",
       "2       False\n",
       "3       False\n",
       "4       False\n",
       "        ...  \n",
       "1578    False\n",
       "1579    False\n",
       "1580    False\n",
       "1581    False\n",
       "1582    False\n",
       "Name: Acheteur, Length: 1583, dtype: boolean"
      ]
     },
     "execution_count": 9,
     "metadata": {},
     "output_type": "execute_result"
    }
   ],
   "source": [
    "missions[\"Acheteur\"].str.contains(\"DINUM\")"
   ]
  },
  {
   "cell_type": "code",
   "execution_count": 10,
   "id": "55091632",
   "metadata": {},
   "outputs": [
    {
     "data": {
      "text/html": [
       "<div>\n",
       "<style scoped>\n",
       "    .dataframe tbody tr th:only-of-type {\n",
       "        vertical-align: middle;\n",
       "    }\n",
       "\n",
       "    .dataframe tbody tr th {\n",
       "        vertical-align: top;\n",
       "    }\n",
       "\n",
       "    .dataframe thead th {\n",
       "        text-align: right;\n",
       "    }\n",
       "</style>\n",
       "<table border=\"1\" class=\"dataframe\">\n",
       "  <thead>\n",
       "    <tr style=\"text-align: right;\">\n",
       "      <th></th>\n",
       "      <th>507</th>\n",
       "    </tr>\n",
       "  </thead>\n",
       "  <tbody>\n",
       "    <tr>\n",
       "      <th>Source</th>\n",
       "      <td>CE</td>\n",
       "    </tr>\n",
       "    <tr>\n",
       "      <th>Intitulé court</th>\n",
       "      <td>Accompagnement dans la conception de services ...</td>\n",
       "    </tr>\n",
       "    <tr>\n",
       "      <th>Intitulé long</th>\n",
       "      <td>Accompagnement de la DINSIC dans le développem...</td>\n",
       "    </tr>\n",
       "    <tr>\n",
       "      <th>Détails</th>\n",
       "      <td>&lt;NA&gt;</td>\n",
       "    </tr>\n",
       "    <tr>\n",
       "      <th>Catégorie</th>\n",
       "      <td>Accompagnement de projets</td>\n",
       "    </tr>\n",
       "    <tr>\n",
       "      <th>Acheteur</th>\n",
       "      <td>Direction interministérielle du numérique (DIN...</td>\n",
       "    </tr>\n",
       "    <tr>\n",
       "      <th>Ministère rattachement</th>\n",
       "      <td>Matignon</td>\n",
       "    </tr>\n",
       "    <tr>\n",
       "      <th>Type entité</th>\n",
       "      <td>Ministère</td>\n",
       "    </tr>\n",
       "    <tr>\n",
       "      <th>Cabinet attributaire</th>\n",
       "      <td>Octo Technology</td>\n",
       "    </tr>\n",
       "    <tr>\n",
       "      <th>Année</th>\n",
       "      <td>2018</td>\n",
       "    </tr>\n",
       "    <tr>\n",
       "      <th>Date d'attribution</th>\n",
       "      <td>07/08/2018</td>\n",
       "    </tr>\n",
       "    <tr>\n",
       "      <th>Montant (€)</th>\n",
       "      <td>390 240.00</td>\n",
       "    </tr>\n",
       "    <tr>\n",
       "      <th>HT ou TTC</th>\n",
       "      <td>TTC</td>\n",
       "    </tr>\n",
       "    <tr>\n",
       "      <th>lien source</th>\n",
       "      <td>http://www.senat.fr/commission/enquete/2021_in...</td>\n",
       "    </tr>\n",
       "  </tbody>\n",
       "</table>\n",
       "</div>"
      ],
      "text/plain": [
       "                                                                      507\n",
       "Source                                                                 CE\n",
       "Intitulé court          Accompagnement dans la conception de services ...\n",
       "Intitulé long           Accompagnement de la DINSIC dans le développem...\n",
       "Détails                                                              <NA>\n",
       "Catégorie                                       Accompagnement de projets\n",
       "Acheteur                Direction interministérielle du numérique (DIN...\n",
       "Ministère rattachement                                           Matignon\n",
       "Type entité                                                     Ministère\n",
       "Cabinet attributaire                                      Octo Technology\n",
       "Année                                                                2018\n",
       "Date d'attribution                                             07/08/2018\n",
       "Montant (€)                                                    390 240.00\n",
       "HT ou TTC                                                             TTC\n",
       "lien source             http://www.senat.fr/commission/enquete/2021_in..."
      ]
     },
     "execution_count": 10,
     "metadata": {},
     "output_type": "execute_result"
    }
   ],
   "source": [
    "dinum = (missions\n",
    "    [ missions[\"Acheteur\"].str.contains(\"DINUM\") ]\n",
    ")\n",
    "\n",
    "dinum.sample().T"
   ]
  },
  {
   "cell_type": "code",
   "execution_count": 11,
   "id": "066e52b4",
   "metadata": {},
   "outputs": [
    {
     "data": {
      "text/plain": [
       "34864245.0"
      ]
     },
     "execution_count": 11,
     "metadata": {},
     "output_type": "execute_result"
    }
   ],
   "source": [
    "dinum['Montant (€)'].sum()"
   ]
  },
  {
   "cell_type": "code",
   "execution_count": 12,
   "id": "508acddc",
   "metadata": {},
   "outputs": [
    {
     "data": {
      "text/html": [
       "<div>\n",
       "<style scoped>\n",
       "    .dataframe tbody tr th:only-of-type {\n",
       "        vertical-align: middle;\n",
       "    }\n",
       "\n",
       "    .dataframe tbody tr th {\n",
       "        vertical-align: top;\n",
       "    }\n",
       "\n",
       "    .dataframe thead th {\n",
       "        text-align: right;\n",
       "    }\n",
       "</style>\n",
       "<table border=\"1\" class=\"dataframe\">\n",
       "  <thead>\n",
       "    <tr style=\"text-align: right;\">\n",
       "      <th></th>\n",
       "      <th>Montant (€)</th>\n",
       "    </tr>\n",
       "    <tr>\n",
       "      <th>Acheteur</th>\n",
       "      <th></th>\n",
       "    </tr>\n",
       "  </thead>\n",
       "  <tbody>\n",
       "    <tr>\n",
       "      <th>Caisse des Dépôts et Consignations</th>\n",
       "      <td>392 097 653.00</td>\n",
       "    </tr>\n",
       "    <tr>\n",
       "      <th>UGAP</th>\n",
       "      <td>217 000 000.00</td>\n",
       "    </tr>\n",
       "    <tr>\n",
       "      <th>Services du Premier Ministre</th>\n",
       "      <td>100 288 200.00</td>\n",
       "    </tr>\n",
       "    <tr>\n",
       "      <th>Ministère des armées</th>\n",
       "      <td>98 440 554.00</td>\n",
       "    </tr>\n",
       "    <tr>\n",
       "      <th>Ministère de l'économie</th>\n",
       "      <td>69 988 814.00</td>\n",
       "    </tr>\n",
       "    <tr>\n",
       "      <th>...</th>\n",
       "      <td>...</td>\n",
       "    </tr>\n",
       "    <tr>\n",
       "      <th>ARS de Corse</th>\n",
       "      <td>0.00</td>\n",
       "    </tr>\n",
       "    <tr>\n",
       "      <th>Direction générale des entreprises du ministèr...</th>\n",
       "      <td>0.00</td>\n",
       "    </tr>\n",
       "    <tr>\n",
       "      <th>Ministère de la Transition écologique</th>\n",
       "      <td>0.00</td>\n",
       "    </tr>\n",
       "    <tr>\n",
       "      <th>MINES ParisTech</th>\n",
       "      <td>0.00</td>\n",
       "    </tr>\n",
       "    <tr>\n",
       "      <th>Institut national de l'audiviosuel (INA)</th>\n",
       "      <td>0.00</td>\n",
       "    </tr>\n",
       "  </tbody>\n",
       "</table>\n",
       "<p>113 rows × 1 columns</p>\n",
       "</div>"
      ],
      "text/plain": [
       "                                                     Montant (€)\n",
       "Acheteur                                                        \n",
       "Caisse des Dépôts et Consignations                392 097 653.00\n",
       "UGAP                                              217 000 000.00\n",
       "Services du Premier Ministre                      100 288 200.00\n",
       "Ministère des armées                               98 440 554.00\n",
       "Ministère de l'économie                            69 988 814.00\n",
       "...                                                          ...\n",
       "ARS de Corse                                                0.00\n",
       "Direction générale des entreprises du ministèr...           0.00\n",
       "Ministère de la Transition écologique                       0.00\n",
       "MINES ParisTech                                             0.00\n",
       "Institut national de l'audiviosuel (INA)                    0.00\n",
       "\n",
       "[113 rows x 1 columns]"
      ]
     },
     "execution_count": 12,
     "metadata": {},
     "output_type": "execute_result"
    }
   ],
   "source": [
    "(missions\n",
    " .groupby(\"Acheteur\")\n",
    " .sum()\n",
    " .sort_values(by=\"Montant (€)\", ascending=False)\n",
    ")"
   ]
  },
  {
   "cell_type": "code",
   "execution_count": 13,
   "id": "f809f088",
   "metadata": {},
   "outputs": [
    {
     "data": {
      "text/plain": [
       "Montant (€)   1 996 076 659.00\n",
       "dtype: float64"
      ]
     },
     "execution_count": 13,
     "metadata": {},
     "output_type": "execute_result"
    }
   ],
   "source": [
    "(missions\n",
    "    [[\"Montant (€)\"]]\n",
    "    .sum()\n",
    ")"
   ]
  },
  {
   "cell_type": "code",
   "execution_count": 14,
   "id": "4b4fa6d4",
   "metadata": {},
   "outputs": [
    {
     "data": {
      "text/html": [
       "<style type=\"text/css\">\n",
       "</style>\n",
       "<table id=\"T_96d71\">\n",
       "  <thead>\n",
       "    <tr>\n",
       "      <th class=\"blank level0\" >&nbsp;</th>\n",
       "      <th id=\"T_96d71_level0_col0\" class=\"col_heading level0 col0\" >Montant (€)</th>\n",
       "    </tr>\n",
       "    <tr>\n",
       "      <th class=\"index_name level0\" >Source</th>\n",
       "      <th class=\"blank col0\" >&nbsp;</th>\n",
       "    </tr>\n",
       "  </thead>\n",
       "  <tbody>\n",
       "    <tr>\n",
       "      <th id=\"T_96d71_level0_row0\" class=\"row_heading level0 row0\" >BOAMP</th>\n",
       "      <td id=\"T_96d71_row0_col0\" class=\"data row0 col0\" >1 041 271 910.00</td>\n",
       "    </tr>\n",
       "    <tr>\n",
       "      <th id=\"T_96d71_level0_row1\" class=\"row_heading level0 row1\" >CE</th>\n",
       "      <td id=\"T_96d71_row1_col0\" class=\"data row1 col0\" >923 494 086.00</td>\n",
       "    </tr>\n",
       "    <tr>\n",
       "      <th id=\"T_96d71_level0_row2\" class=\"row_heading level0 row2\" >DECP</th>\n",
       "      <td id=\"T_96d71_row2_col0\" class=\"data row2 col0\" >30 402 025.00</td>\n",
       "    </tr>\n",
       "    <tr>\n",
       "      <th id=\"T_96d71_level0_row3\" class=\"row_heading level0 row3\" >Autre</th>\n",
       "      <td id=\"T_96d71_row3_col0\" class=\"data row3 col0\" >908 638.00</td>\n",
       "    </tr>\n",
       "  </tbody>\n",
       "</table>\n"
      ],
      "text/plain": [
       "<pandas.io.formats.style.Styler at 0x11fa2a1f0>"
      ]
     },
     "execution_count": 14,
     "metadata": {},
     "output_type": "execute_result"
    }
   ],
   "source": [
    "(missions\n",
    "    .groupby(\"Source\")\n",
    "    [[\"Montant (€)\"]]\n",
    "    .sum()\n",
    "    .sort_values(by=[\"Montant (€)\"], ascending=False)\n",
    "    .style.pipe(pretty)\n",
    ")"
   ]
  },
  {
   "cell_type": "code",
   "execution_count": null,
   "id": "a6447804",
   "metadata": {},
   "outputs": [],
   "source": []
  }
 ],
 "metadata": {
  "kernelspec": {
   "display_name": "Python 3",
   "language": "python",
   "name": "python3"
  },
  "language_info": {
   "codemirror_mode": {
    "name": "ipython",
    "version": 3
   },
   "file_extension": ".py",
   "mimetype": "text/x-python",
   "name": "python",
   "nbconvert_exporter": "python",
   "pygments_lexer": "ipython3",
   "version": "3.9.9"
  }
 },
 "nbformat": 4,
 "nbformat_minor": 5
}
