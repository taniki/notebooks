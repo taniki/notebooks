{
 "cells": [
  {
   "cell_type": "code",
   "execution_count": 1,
   "id": "7f7f9200",
   "metadata": {},
   "outputs": [],
   "source": [
    "url = \"https://www.senat.fr/fileadmin/Fichiers/Images/commission/finances/CE_Cabinets_de_conseil/Liste_prestations/SGG-DINUM.xlsx\""
   ]
  },
  {
   "cell_type": "code",
   "execution_count": 2,
   "id": "5bd6c723",
   "metadata": {},
   "outputs": [],
   "source": [
    "import pandas as pd"
   ]
  },
  {
   "cell_type": "code",
   "execution_count": 3,
   "id": "44fd4d15",
   "metadata": {},
   "outputs": [
    {
     "data": {
      "text/plain": [
       "date de notification      object\n",
       "date de fin               object\n",
       "prestataire             category\n",
       "objet                   category\n",
       "total                    float64\n",
       "dtype: object"
      ]
     },
     "execution_count": 3,
     "metadata": {},
     "output_type": "execute_result"
    }
   ],
   "source": [
    "dinum = (pd.read_excel(url, header=1, dtype='str')\n",
    "    .rename(columns={\n",
    "        \"Année de passation : \\nDate de notification\": \"date de notification\",\n",
    "        \"Période couverte : \\nDate de fin\": \"date de fin\",\n",
    "        \"Prestataire \": \"prestataire\",\n",
    "        \"Objet de la prestation\": \"objet\",\n",
    "        \"Total général\": \"total\"\n",
    "    })\n",
    "    .astype({\n",
    "        'prestataire': 'category',\n",
    "        'objet': 'category',\n",
    "        'total': 'float64'\n",
    "    })\n",
    ")\n",
    "\n",
    "dinum.dtypes"
   ]
  },
  {
   "cell_type": "code",
   "execution_count": 4,
   "id": "3237dcee",
   "metadata": {},
   "outputs": [
    {
     "data": {
      "text/plain": [
       "(176, 5)"
      ]
     },
     "execution_count": 4,
     "metadata": {},
     "output_type": "execute_result"
    }
   ],
   "source": [
    "dinum.shape"
   ]
  },
  {
   "cell_type": "code",
   "execution_count": 5,
   "id": "b69c1c07",
   "metadata": {},
   "outputs": [
    {
     "data": {
      "text/plain": [
       "Accompagnement de la DINSIC dans le développement et le design de services publics numériques en mode agile                                               73\n",
       "Service internet France connect                                                                                                                           36\n",
       "Appui et à la mise en œuvre de start-up d’État                                                                                                            17\n",
       "Conseil et expertise SI (DINSIC) - LOT 6\\nAttributaire n°1                                                                                                10\n",
       "Conseil et expertise SI (DINSIC) - LOT 5\\nAttributaire n°3                                                                                                 7\n",
       "Accompagnement de la DINUM dans l’appui à la création et à l’animation d’un incubateur de services publics numériques en mode agile                        6\n",
       " Appui à la création et à l’animation d’un incubateur                                                                                                      5\n",
       "Conseil et expertise SI (DINSIC) - LOT 5\\nAttributaire n°2                                                                                                 5\n",
       "Assistance à la conception et à la mise en œuvre opérationnelle de projets de modernisation de l'action publique                                           4\n",
       "Conseil et expertise SI (DINSIC) - LOT 5\\nAttributaire n°1                                                                                                 4\n",
       "AC_TRANSFO_LOT1_MS4_Gestion de la performance des SIC (en lien avec le 14_BAM_012)                                                                         2\n",
       "Conseil et expertise SI (DINSIC) - LOT 5\\nAttributaire n°4                                                                                                 2\n",
       "Fourniture de prestations de valorisation des données (Datasciences)                                                                                       1\n",
       "Prestations de conseil, assistance à maîtrise d'ouvrage et de tierce recette applicative                                                                   1\n",
       "                                                                                                                                                           1\n",
       " Prestations d’accompagnement du SGMAP dans le déploiement de Start-up d’État\\net la réalisation de développement de services numériques en mode Agile     1\n",
       "Conseil et expertise SI (DINSIC) - LOT 1\\nAttributaire n°1                                                                                                 1\n",
       "Name: objet, dtype: int64"
      ]
     },
     "execution_count": 5,
     "metadata": {},
     "output_type": "execute_result"
    }
   ],
   "source": [
    "(dinum\n",
    "     ['objet']\n",
    "     .value_counts()\n",
    ")"
   ]
  },
  {
   "cell_type": "code",
   "execution_count": 7,
   "id": "0128d47e",
   "metadata": {},
   "outputs": [
    {
     "data": {
      "text/plain": [
       "OCTO TECHNOLOGY                    84\n",
       "KALIOP                             24\n",
       "SOPRA STERIA GROUP                 15\n",
       "ERNST ET YOUNG ADVISORY             8\n",
       "ATOS INTEGRATION                    6\n",
       "INFORMATIQUE CONVIVIALE CONSEIL     5\n",
       "CODEURS EN LIBERTE                  4\n",
       "NUMA                                4\n",
       "AERIAL                              3\n",
       "ATOS CONSULTING                     3\n",
       "BEARINGPOINT FRANCE SAS             3\n",
       "SCOPYLEFT                           3\n",
       "NOVEANE                             2\n",
       "ATOS FRANCE                         2\n",
       "DELOITTE CONSEIL                    2\n",
       "INOP S                              2\n",
       "EUROGROUP CONSULTING FRANCE         1\n",
       "LA JAVANESS                         1\n",
       "AROLLA                              1\n",
       "CGI FRANCE                          1\n",
       "CAPGEMINI CONSULTING                1\n",
       "UT7                                 1\n",
       "Name: prestataire, dtype: int64"
      ]
     },
     "execution_count": 7,
     "metadata": {},
     "output_type": "execute_result"
    }
   ],
   "source": [
    "(dinum\n",
    "     ['prestataire']\n",
    "     .value_counts()\n",
    ")"
   ]
  },
  {
   "cell_type": "code",
   "execution_count": 9,
   "id": "5b6b9ccf",
   "metadata": {},
   "outputs": [
    {
     "data": {
      "text/plain": [
       "40794551.05"
      ]
     },
     "execution_count": 9,
     "metadata": {},
     "output_type": "execute_result"
    }
   ],
   "source": [
    "(dinum\n",
    "    ['total']\n",
    "    .sum()\n",
    ")"
   ]
  },
  {
   "cell_type": "code",
   "execution_count": 6,
   "id": "f8c2ffdf",
   "metadata": {},
   "outputs": [
    {
     "data": {
      "text/html": [
       "<div>\n",
       "<style scoped>\n",
       "    .dataframe tbody tr th:only-of-type {\n",
       "        vertical-align: middle;\n",
       "    }\n",
       "\n",
       "    .dataframe tbody tr th {\n",
       "        vertical-align: top;\n",
       "    }\n",
       "\n",
       "    .dataframe thead th {\n",
       "        text-align: right;\n",
       "    }\n",
       "</style>\n",
       "<table border=\"1\" class=\"dataframe\">\n",
       "  <thead>\n",
       "    <tr style=\"text-align: right;\">\n",
       "      <th></th>\n",
       "      <th>total</th>\n",
       "    </tr>\n",
       "    <tr>\n",
       "      <th>prestataire</th>\n",
       "      <th></th>\n",
       "    </tr>\n",
       "  </thead>\n",
       "  <tbody>\n",
       "    <tr>\n",
       "      <th>OCTO TECHNOLOGY</th>\n",
       "      <td>20056504.61</td>\n",
       "    </tr>\n",
       "    <tr>\n",
       "      <th>KALIOP</th>\n",
       "      <td>5161328.42</td>\n",
       "    </tr>\n",
       "    <tr>\n",
       "      <th>SOPRA STERIA GROUP</th>\n",
       "      <td>3107682.00</td>\n",
       "    </tr>\n",
       "    <tr>\n",
       "      <th>INFORMATIQUE CONVIVIALE CONSEIL</th>\n",
       "      <td>1882440.00</td>\n",
       "    </tr>\n",
       "    <tr>\n",
       "      <th>NUMA</th>\n",
       "      <td>1712649.60</td>\n",
       "    </tr>\n",
       "    <tr>\n",
       "      <th>ERNST ET YOUNG ADVISORY</th>\n",
       "      <td>1619670.00</td>\n",
       "    </tr>\n",
       "    <tr>\n",
       "      <th>ATOS INTEGRATION</th>\n",
       "      <td>1172646.29</td>\n",
       "    </tr>\n",
       "    <tr>\n",
       "      <th>CODEURS EN LIBERTE</th>\n",
       "      <td>856992.00</td>\n",
       "    </tr>\n",
       "    <tr>\n",
       "      <th>DELOITTE CONSEIL</th>\n",
       "      <td>660234.48</td>\n",
       "    </tr>\n",
       "    <tr>\n",
       "      <th>ATOS CONSULTING</th>\n",
       "      <td>648912.93</td>\n",
       "    </tr>\n",
       "    <tr>\n",
       "      <th>BEARINGPOINT FRANCE SAS</th>\n",
       "      <td>645053.91</td>\n",
       "    </tr>\n",
       "    <tr>\n",
       "      <th>SCOPYLEFT</th>\n",
       "      <td>615750.73</td>\n",
       "    </tr>\n",
       "    <tr>\n",
       "      <th>AERIAL</th>\n",
       "      <td>518043.52</td>\n",
       "    </tr>\n",
       "    <tr>\n",
       "      <th>INOP S</th>\n",
       "      <td>426072.60</td>\n",
       "    </tr>\n",
       "    <tr>\n",
       "      <th>ATOS FRANCE</th>\n",
       "      <td>362770.10</td>\n",
       "    </tr>\n",
       "    <tr>\n",
       "      <th>NOVEANE</th>\n",
       "      <td>303206.00</td>\n",
       "    </tr>\n",
       "    <tr>\n",
       "      <th>CAPGEMINI CONSULTING</th>\n",
       "      <td>258120.00</td>\n",
       "    </tr>\n",
       "    <tr>\n",
       "      <th>AROLLA</th>\n",
       "      <td>162939.31</td>\n",
       "    </tr>\n",
       "    <tr>\n",
       "      <th>LA JAVANESS</th>\n",
       "      <td>162747.13</td>\n",
       "    </tr>\n",
       "    <tr>\n",
       "      <th>EUROGROUP CONSULTING FRANCE</th>\n",
       "      <td>160740.00</td>\n",
       "    </tr>\n",
       "    <tr>\n",
       "      <th>CGI FRANCE</th>\n",
       "      <td>150047.42</td>\n",
       "    </tr>\n",
       "    <tr>\n",
       "      <th>UT7</th>\n",
       "      <td>150000.00</td>\n",
       "    </tr>\n",
       "  </tbody>\n",
       "</table>\n",
       "</div>"
      ],
      "text/plain": [
       "                                       total\n",
       "prestataire                                 \n",
       "OCTO TECHNOLOGY                  20056504.61\n",
       "KALIOP                            5161328.42\n",
       "SOPRA STERIA GROUP                3107682.00\n",
       "INFORMATIQUE CONVIVIALE CONSEIL   1882440.00\n",
       "NUMA                              1712649.60\n",
       "ERNST ET YOUNG ADVISORY           1619670.00\n",
       "ATOS INTEGRATION                  1172646.29\n",
       "CODEURS EN LIBERTE                 856992.00\n",
       "DELOITTE CONSEIL                   660234.48\n",
       "ATOS CONSULTING                    648912.93\n",
       "BEARINGPOINT FRANCE SAS            645053.91\n",
       "SCOPYLEFT                          615750.73\n",
       "AERIAL                             518043.52\n",
       "INOP S                             426072.60\n",
       "ATOS FRANCE                        362770.10\n",
       "NOVEANE                            303206.00\n",
       "CAPGEMINI CONSULTING               258120.00\n",
       "AROLLA                             162939.31\n",
       "LA JAVANESS                        162747.13\n",
       "EUROGROUP CONSULTING FRANCE        160740.00\n",
       "CGI FRANCE                         150047.42\n",
       "UT7                                150000.00"
      ]
     },
     "execution_count": 6,
     "metadata": {},
     "output_type": "execute_result"
    }
   ],
   "source": [
    "(dinum\n",
    "    .groupby([\"prestataire\"])\n",
    "    .sum()\n",
    "    .sort_values(by=\"total\", ascending=False)\n",
    ")"
   ]
  }
 ],
 "metadata": {
  "kernelspec": {
   "display_name": "Python 3",
   "language": "python",
   "name": "python3"
  },
  "language_info": {
   "codemirror_mode": {
    "name": "ipython",
    "version": 3
   },
   "file_extension": ".py",
   "mimetype": "text/x-python",
   "name": "python",
   "nbconvert_exporter": "python",
   "pygments_lexer": "ipython3",
   "version": "3.9.9"
  }
 },
 "nbformat": 4,
 "nbformat_minor": 5
}
