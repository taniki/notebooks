{
 "cells": [
  {
   "cell_type": "code",
   "execution_count": 1,
   "id": "b7c11f18",
   "metadata": {},
   "outputs": [],
   "source": [
    "url = \"https://www.senat.fr/fileadmin/Fichiers/Images/commission/finances/CE_Cabinets_de_conseil/Liste_prestations/SGG-DINUM.xlsx\""
   ]
  },
  {
   "cell_type": "code",
   "execution_count": 2,
   "id": "42bf7c0b",
   "metadata": {},
   "outputs": [],
   "source": [
    "import pandas as pd"
   ]
  },
  {
   "cell_type": "code",
   "execution_count": 3,
   "id": "e8c921c1",
   "metadata": {},
   "outputs": [
    {
     "data": {
      "text/plain": [
       "Année de passation : \\nDate de notification      object\n",
       "Période couverte : \\nDate de fin                 object\n",
       "Prestataire                                    category\n",
       "Objet de la prestation                           object\n",
       "Total général                                   float64\n",
       "dtype: object"
      ]
     },
     "execution_count": 3,
     "metadata": {},
     "output_type": "execute_result"
    }
   ],
   "source": [
    "dinum = (pd.read_excel(url, header=1, dtype='str')\n",
    "    .astype({ 'Total général': 'float64'})\n",
    "    .astype({ 'Prestataire ': 'category'})\n",
    ")\n",
    "\n",
    "dinum.dtypes"
   ]
  },
  {
   "cell_type": "code",
   "execution_count": 4,
   "id": "5f1bfdfe",
   "metadata": {},
   "outputs": [
    {
     "data": {
      "text/html": [
       "<div>\n",
       "<style scoped>\n",
       "    .dataframe tbody tr th:only-of-type {\n",
       "        vertical-align: middle;\n",
       "    }\n",
       "\n",
       "    .dataframe tbody tr th {\n",
       "        vertical-align: top;\n",
       "    }\n",
       "\n",
       "    .dataframe thead th {\n",
       "        text-align: right;\n",
       "    }\n",
       "</style>\n",
       "<table border=\"1\" class=\"dataframe\">\n",
       "  <thead>\n",
       "    <tr style=\"text-align: right;\">\n",
       "      <th></th>\n",
       "      <th>Total général</th>\n",
       "    </tr>\n",
       "    <tr>\n",
       "      <th>Prestataire</th>\n",
       "      <th></th>\n",
       "    </tr>\n",
       "  </thead>\n",
       "  <tbody>\n",
       "    <tr>\n",
       "      <th>OCTO TECHNOLOGY</th>\n",
       "      <td>20056504.61</td>\n",
       "    </tr>\n",
       "    <tr>\n",
       "      <th>KALIOP</th>\n",
       "      <td>5161328.42</td>\n",
       "    </tr>\n",
       "    <tr>\n",
       "      <th>SOPRA STERIA GROUP</th>\n",
       "      <td>3107682.00</td>\n",
       "    </tr>\n",
       "    <tr>\n",
       "      <th>INFORMATIQUE CONVIVIALE CONSEIL</th>\n",
       "      <td>1882440.00</td>\n",
       "    </tr>\n",
       "    <tr>\n",
       "      <th>NUMA</th>\n",
       "      <td>1712649.60</td>\n",
       "    </tr>\n",
       "    <tr>\n",
       "      <th>ERNST ET YOUNG ADVISORY</th>\n",
       "      <td>1619670.00</td>\n",
       "    </tr>\n",
       "    <tr>\n",
       "      <th>ATOS INTEGRATION</th>\n",
       "      <td>1172646.29</td>\n",
       "    </tr>\n",
       "    <tr>\n",
       "      <th>CODEURS EN LIBERTE</th>\n",
       "      <td>856992.00</td>\n",
       "    </tr>\n",
       "    <tr>\n",
       "      <th>DELOITTE CONSEIL</th>\n",
       "      <td>660234.48</td>\n",
       "    </tr>\n",
       "    <tr>\n",
       "      <th>ATOS CONSULTING</th>\n",
       "      <td>648912.93</td>\n",
       "    </tr>\n",
       "    <tr>\n",
       "      <th>BEARINGPOINT FRANCE SAS</th>\n",
       "      <td>645053.91</td>\n",
       "    </tr>\n",
       "    <tr>\n",
       "      <th>SCOPYLEFT</th>\n",
       "      <td>615750.73</td>\n",
       "    </tr>\n",
       "    <tr>\n",
       "      <th>AERIAL</th>\n",
       "      <td>518043.52</td>\n",
       "    </tr>\n",
       "    <tr>\n",
       "      <th>INOP S</th>\n",
       "      <td>426072.60</td>\n",
       "    </tr>\n",
       "    <tr>\n",
       "      <th>ATOS FRANCE</th>\n",
       "      <td>362770.10</td>\n",
       "    </tr>\n",
       "    <tr>\n",
       "      <th>NOVEANE</th>\n",
       "      <td>303206.00</td>\n",
       "    </tr>\n",
       "    <tr>\n",
       "      <th>CAPGEMINI CONSULTING</th>\n",
       "      <td>258120.00</td>\n",
       "    </tr>\n",
       "    <tr>\n",
       "      <th>AROLLA</th>\n",
       "      <td>162939.31</td>\n",
       "    </tr>\n",
       "    <tr>\n",
       "      <th>LA JAVANESS</th>\n",
       "      <td>162747.13</td>\n",
       "    </tr>\n",
       "    <tr>\n",
       "      <th>EUROGROUP CONSULTING FRANCE</th>\n",
       "      <td>160740.00</td>\n",
       "    </tr>\n",
       "    <tr>\n",
       "      <th>CGI FRANCE</th>\n",
       "      <td>150047.42</td>\n",
       "    </tr>\n",
       "    <tr>\n",
       "      <th>UT7</th>\n",
       "      <td>150000.00</td>\n",
       "    </tr>\n",
       "  </tbody>\n",
       "</table>\n",
       "</div>"
      ],
      "text/plain": [
       "                                 Total général\n",
       "Prestataire                                   \n",
       "OCTO TECHNOLOGY                    20056504.61\n",
       "KALIOP                              5161328.42\n",
       "SOPRA STERIA GROUP                  3107682.00\n",
       "INFORMATIQUE CONVIVIALE CONSEIL     1882440.00\n",
       "NUMA                                1712649.60\n",
       "ERNST ET YOUNG ADVISORY             1619670.00\n",
       "ATOS INTEGRATION                    1172646.29\n",
       "CODEURS EN LIBERTE                   856992.00\n",
       "DELOITTE CONSEIL                     660234.48\n",
       "ATOS CONSULTING                      648912.93\n",
       "BEARINGPOINT FRANCE SAS              645053.91\n",
       "SCOPYLEFT                            615750.73\n",
       "AERIAL                               518043.52\n",
       "INOP S                               426072.60\n",
       "ATOS FRANCE                          362770.10\n",
       "NOVEANE                              303206.00\n",
       "CAPGEMINI CONSULTING                 258120.00\n",
       "AROLLA                               162939.31\n",
       "LA JAVANESS                          162747.13\n",
       "EUROGROUP CONSULTING FRANCE          160740.00\n",
       "CGI FRANCE                           150047.42\n",
       "UT7                                  150000.00"
      ]
     },
     "execution_count": 4,
     "metadata": {},
     "output_type": "execute_result"
    }
   ],
   "source": [
    "(dinum\n",
    "    .groupby([\"Prestataire \"])\n",
    "    .sum()\n",
    "    .sort_values(by=\"Total général\", ascending=False)\n",
    ")"
   ]
  },
  {
   "cell_type": "code",
   "execution_count": 5,
   "id": "25f7583c",
   "metadata": {},
   "outputs": [
    {
     "data": {
      "text/plain": [
       "0            43860\n",
       "1       12/05/2017\n",
       "2       12/05/2017\n",
       "3            43319\n",
       "4            42914\n",
       "          ...     \n",
       "171          43319\n",
       "172     02/07/2019\n",
       "173          43319\n",
       "174          43319\n",
       "175          43997\n",
       "Name: Année de passation : \\nDate de notification, Length: 176, dtype: object"
      ]
     },
     "execution_count": 5,
     "metadata": {},
     "output_type": "execute_result"
    }
   ],
   "source": [
    "dinum['Année de passation : \\nDate de notification']"
   ]
  },
  {
   "cell_type": "code",
   "execution_count": null,
   "id": "6d8bd7db",
   "metadata": {},
   "outputs": [],
   "source": []
  }
 ],
 "metadata": {
  "kernelspec": {
   "display_name": "Python 3",
   "language": "python",
   "name": "python3"
  },
  "language_info": {
   "codemirror_mode": {
    "name": "ipython",
    "version": 3
   },
   "file_extension": ".py",
   "mimetype": "text/x-python",
   "name": "python",
   "nbconvert_exporter": "python",
   "pygments_lexer": "ipython3",
   "version": "3.9.9"
  }
 },
 "nbformat": 4,
 "nbformat_minor": 5
}
