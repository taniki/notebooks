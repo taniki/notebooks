{
 "cells": [
  {
   "cell_type": "code",
   "execution_count": 1,
   "id": "9207bf29",
   "metadata": {},
   "outputs": [],
   "source": [
    "import pandas as pd"
   ]
  },
  {
   "cell_type": "code",
   "execution_count": 8,
   "id": "b2c87108",
   "metadata": {},
   "outputs": [
    {
     "name": "stderr",
     "output_type": "stream",
     "text": [
      "/Users/tk/.virtualenvs/datascience/lib/python3.9/site-packages/IPython/core/interactiveshell.py:3169: DtypeWarning: Columns (1,2,64) have mixed types.Specify dtype option on import or set low_memory=False.\n",
      "  has_raised = await self.run_ast_nodes(code_ast.body, cell_name,\n"
     ]
    }
   ],
   "source": [
    "df = pd.read_csv('~/Downloads/RP2018_LOGEMTZA_csv/FD_LOGEMTZA_2018.csv', sep= \";\")"
   ]
  },
  {
   "cell_type": "code",
   "execution_count": 13,
   "id": "7814ac45",
   "metadata": {},
   "outputs": [
    {
     "data": {
      "text/html": [
       "<div>\n",
       "<style scoped>\n",
       "    .dataframe tbody tr th:only-of-type {\n",
       "        vertical-align: middle;\n",
       "    }\n",
       "\n",
       "    .dataframe tbody tr th {\n",
       "        vertical-align: top;\n",
       "    }\n",
       "\n",
       "    .dataframe thead th {\n",
       "        text-align: right;\n",
       "    }\n",
       "</style>\n",
       "<table border=\"1\" class=\"dataframe\">\n",
       "  <thead>\n",
       "    <tr style=\"text-align: right;\">\n",
       "      <th></th>\n",
       "      <th>COMMUNE</th>\n",
       "      <th>ARM</th>\n",
       "      <th>IRIS</th>\n",
       "      <th>ACHL</th>\n",
       "      <th>AEMM</th>\n",
       "      <th>AEMMR</th>\n",
       "      <th>AGEMEN8</th>\n",
       "      <th>ANEM</th>\n",
       "      <th>ANEMR</th>\n",
       "      <th>ASCEN</th>\n",
       "      <th>...</th>\n",
       "      <th>STOCD</th>\n",
       "      <th>SURF</th>\n",
       "      <th>TACTM</th>\n",
       "      <th>TPM</th>\n",
       "      <th>TRANSM</th>\n",
       "      <th>TRIRIS</th>\n",
       "      <th>TYPC</th>\n",
       "      <th>TYPL</th>\n",
       "      <th>VOIT</th>\n",
       "      <th>WC</th>\n",
       "    </tr>\n",
       "  </thead>\n",
       "  <tbody>\n",
       "    <tr>\n",
       "      <th>0</th>\n",
       "      <td>75056</td>\n",
       "      <td>75101</td>\n",
       "      <td>751010101</td>\n",
       "      <td>C114</td>\n",
       "      <td>2014</td>\n",
       "      <td>9</td>\n",
       "      <td>25</td>\n",
       "      <td>6</td>\n",
       "      <td>2</td>\n",
       "      <td>2</td>\n",
       "      <td>...</td>\n",
       "      <td>10</td>\n",
       "      <td>6</td>\n",
       "      <td>11</td>\n",
       "      <td>1</td>\n",
       "      <td>5</td>\n",
       "      <td>750011</td>\n",
       "      <td>1</td>\n",
       "      <td>1</td>\n",
       "      <td>2</td>\n",
       "      <td>Z</td>\n",
       "    </tr>\n",
       "    <tr>\n",
       "      <th>1</th>\n",
       "      <td>75056</td>\n",
       "      <td>75101</td>\n",
       "      <td>751010101</td>\n",
       "      <td>A11</td>\n",
       "      <td>2008</td>\n",
       "      <td>9</td>\n",
       "      <td>25</td>\n",
       "      <td>12</td>\n",
       "      <td>3</td>\n",
       "      <td>1</td>\n",
       "      <td>...</td>\n",
       "      <td>30</td>\n",
       "      <td>6</td>\n",
       "      <td>11</td>\n",
       "      <td>1</td>\n",
       "      <td>5</td>\n",
       "      <td>750011</td>\n",
       "      <td>3</td>\n",
       "      <td>2</td>\n",
       "      <td>1</td>\n",
       "      <td>Z</td>\n",
       "    </tr>\n",
       "    <tr>\n",
       "      <th>2</th>\n",
       "      <td>75056</td>\n",
       "      <td>75101</td>\n",
       "      <td>751010101</td>\n",
       "      <td>A11</td>\n",
       "      <td>2012</td>\n",
       "      <td>9</td>\n",
       "      <td>25</td>\n",
       "      <td>7</td>\n",
       "      <td>2</td>\n",
       "      <td>1</td>\n",
       "      <td>...</td>\n",
       "      <td>23</td>\n",
       "      <td>4</td>\n",
       "      <td>11</td>\n",
       "      <td>1</td>\n",
       "      <td>6</td>\n",
       "      <td>750011</td>\n",
       "      <td>3</td>\n",
       "      <td>2</td>\n",
       "      <td>0</td>\n",
       "      <td>Z</td>\n",
       "    </tr>\n",
       "    <tr>\n",
       "      <th>3</th>\n",
       "      <td>75056</td>\n",
       "      <td>75101</td>\n",
       "      <td>751010101</td>\n",
       "      <td>A12</td>\n",
       "      <td>2002</td>\n",
       "      <td>9</td>\n",
       "      <td>40</td>\n",
       "      <td>17</td>\n",
       "      <td>3</td>\n",
       "      <td>2</td>\n",
       "      <td>...</td>\n",
       "      <td>21</td>\n",
       "      <td>3</td>\n",
       "      <td>11</td>\n",
       "      <td>1</td>\n",
       "      <td>6</td>\n",
       "      <td>750011</td>\n",
       "      <td>1</td>\n",
       "      <td>2</td>\n",
       "      <td>0</td>\n",
       "      <td>Z</td>\n",
       "    </tr>\n",
       "    <tr>\n",
       "      <th>4</th>\n",
       "      <td>75056</td>\n",
       "      <td>75101</td>\n",
       "      <td>751010101</td>\n",
       "      <td>A11</td>\n",
       "      <td>2000</td>\n",
       "      <td>9</td>\n",
       "      <td>40</td>\n",
       "      <td>19</td>\n",
       "      <td>3</td>\n",
       "      <td>2</td>\n",
       "      <td>...</td>\n",
       "      <td>10</td>\n",
       "      <td>1</td>\n",
       "      <td>11</td>\n",
       "      <td>1</td>\n",
       "      <td>2</td>\n",
       "      <td>750011</td>\n",
       "      <td>3</td>\n",
       "      <td>2</td>\n",
       "      <td>1</td>\n",
       "      <td>Z</td>\n",
       "    </tr>\n",
       "  </tbody>\n",
       "</table>\n",
       "<p>5 rows × 69 columns</p>\n",
       "</div>"
      ],
      "text/plain": [
       "   COMMUNE    ARM       IRIS   ACHL  AEMM  AEMMR AGEMEN8  ANEM  ANEMR ASCEN  \\\n",
       "0    75056  75101  751010101  C114   2014      9      25     6      2     2   \n",
       "1    75056  75101  751010101  A11    2008      9      25    12      3     1   \n",
       "2    75056  75101  751010101  A11    2012      9      25     7      2     1   \n",
       "3    75056  75101  751010101  A12    2002      9      40    17      3     2   \n",
       "4    75056  75101  751010101  A11    2000      9      40    19      3     2   \n",
       "\n",
       "   ... STOCD SURF TACTM  TPM TRANSM  TRIRIS TYPC TYPL VOIT WC  \n",
       "0  ...    10    6    11    1      5  750011    1    1    2  Z  \n",
       "1  ...    30    6    11    1      5  750011    3    2    1  Z  \n",
       "2  ...    23    4    11    1      6  750011    3    2    0  Z  \n",
       "3  ...    21    3    11    1      6  750011    1    2    0  Z  \n",
       "4  ...    10    1    11    1      2  750011    3    2    1  Z  \n",
       "\n",
       "[5 rows x 69 columns]"
      ]
     },
     "execution_count": 13,
     "metadata": {},
     "output_type": "execute_result"
    }
   ],
   "source": [
    "df.head()"
   ]
  },
  {
   "cell_type": "code",
   "execution_count": 14,
   "id": "349b6575",
   "metadata": {},
   "outputs": [
    {
     "data": {
      "text/plain": [
       "(2851130, 69)"
      ]
     },
     "execution_count": 14,
     "metadata": {},
     "output_type": "execute_result"
    }
   ],
   "source": [
    "df.shape"
   ]
  },
  {
   "cell_type": "markdown",
   "id": "102ddbbd",
   "metadata": {},
   "source": [
    "- source : https://www.insee.fr/fr/statistiques/fichier/5542867/RP2018_LOGEMTZA_csv.zip\n",
    "- dictionnaire des variables : https://www.insee.fr/fr/statistiques/5542867?sommaire=5395764#dictionnaire"
   ]
  },
  {
   "cell_type": "markdown",
   "id": "069fefb5",
   "metadata": {},
   "source": [
    "## À faire\n",
    "\n",
    "- [ ] regroupement par code commune INSEE (python)\n",
    "    - [ ] filtrer pour ne garder que les arrondissements de paris\n",
    "    - [ ] profil sociodémographique\n",
    "    - [ ] faire un indicateur pour classer les différents arrondissements\n",
    "- [ ] exporter en CSV et le mettre sur data.gouv.fr\n",
    "- [ ] récupérer le profil type des habitants de logements sociaux (python ou observable)\n",
    "- [ ] voir l'impact sur le profil sociodémographique si on remplit les logements vacants avec le profil socio-démographique des quartiers les plus pauvres (python ou observable)"
   ]
  },
  {
   "cell_type": "code",
   "execution_count": null,
   "id": "04e4061e",
   "metadata": {},
   "outputs": [],
   "source": []
  }
 ],
 "metadata": {
  "jupytext": {
   "encoding": "# -*- coding: utf-8 -*-",
   "formats": "ipynb,py:hydrogen"
  },
  "kernelspec": {
   "display_name": "Python 3",
   "language": "python",
   "name": "python3"
  },
  "language_info": {
   "codemirror_mode": {
    "name": "ipython",
    "version": 3
   },
   "file_extension": ".py",
   "mimetype": "text/x-python",
   "name": "python",
   "nbconvert_exporter": "python",
   "pygments_lexer": "ipython3",
   "version": "3.9.9"
  }
 },
 "nbformat": 4,
 "nbformat_minor": 5
}
