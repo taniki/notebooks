{
 "cells": [
  {
   "cell_type": "code",
   "execution_count": null,
   "metadata": {},
   "outputs": [],
   "source": [
    "import pandas as pd\n",
    "import altair as alt"
   ]
  },
  {
   "cell_type": "code",
   "execution_count": null,
   "metadata": {},
   "outputs": [],
   "source": [
    "df = pd.read_csv(\"annuaire_genre.csv\", sep=\";\")"
   ]
  },
  {
   "cell_type": "code",
   "execution_count": null,
   "metadata": {},
   "outputs": [],
   "source": [
    "df.head()"
   ]
  },
  {
   "cell_type": "code",
   "execution_count": null,
   "metadata": {},
   "outputs": [],
   "source": [
    "def traitementHierarchie (chaine) :\n",
    "    chaine = chaine.split('>')\n",
    "    chaine = [e.lstrip().rstrip() for e in chaine]\n",
    "    chaine = [e for e in chaine if e != '']\n",
    "    chaine = list(set(chaine))\n",
    "\n",
    "    return chaine, len(chaine)\n",
    "\n",
    "df['chaine'], df['profondeur'] = tuple(zip(*df.apply(lambda row : traitementHierarchie(row['hierarchie']), axis = 1)))\n",
    "\n",
    "df[['genre', 'prenom', 'chaine', 'profondeur']].head()"
   ]
  },
  {
   "cell_type": "code",
   "execution_count": null,
   "metadata": {},
   "outputs": [],
   "source": [
    "df[['genre', 'prenom', 'chaine', 'profondeur']].shape"
   ]
  },
  {
   "cell_type": "code",
   "execution_count": null,
   "metadata": {},
   "outputs": [],
   "source": [
    "filename = \"data.json\"\n",
    "df[['genre', 'prenom', 'chaine', 'profondeur']].to_json(filename, orient='records')"
   ]
  },
  {
   "cell_type": "code",
   "execution_count": null,
   "metadata": {},
   "outputs": [],
   "source": [
    "base = alt.Chart(filename)\n",
    "\n",
    "x_scale = alt.Scale(domain=[0, 2000])\n",
    "y_scale = alt.Scale(domain=[1,6])\n",
    "color_scale = alt.Scale(domain=[\"F\", \"M\"], range=[\" #FF851B\",\"#39CCCC \"])\n",
    "\n",
    "left = base.transform_filter(\n",
    "    alt.datum.genre == \"F\"\n",
    ").encode(\n",
    "    y = alt.Y(\"profondeur:O\", axis=None),\n",
    "    x = alt.X('count():Q',\n",
    "              title=\"population\",\n",
    "              sort=alt.SortOrder('descending'),\n",
    "              scale=x_scale\n",
    "             ),\n",
    "    color = alt.Color('genre:N', scale=color_scale, legend=None)\n",
    ").mark_bar().properties(title=\"Femmes\")\n",
    "\n",
    "middle = base.encode(\n",
    "    y = alt.Y('profondeur:O', axis=None),\n",
    "    text = alt.Text('profondeur:N')\n",
    ").mark_text()\n",
    "\n",
    "right = base.transform_filter(\n",
    "    alt.datum.genre == \"M\"\n",
    ").encode(\n",
    "    y = alt.Y(\"profondeur:O\", axis=None),\n",
    "    x = alt.X('count():Q', title=\"population\", scale=x_scale),\n",
    "    color = alt.Color('genre:N', scale=color_scale, legend=None)\n",
    ").mark_bar().properties(title=\"Homme\")\n",
    "\n",
    "left | middle | right"
   ]
  },
  {
   "cell_type": "code",
   "execution_count": null,
   "metadata": {},
   "outputs": [],
   "source": [
    "def compute_ratio(df, col):\n",
    "    ratio = df.groupby(['genre', col]).size().reset_index()\n",
    "    ratio.columns = ['genre', col, 'nombre']\n",
    "    \n",
    "    ratio['proportion'] = ratio.apply(lambda r: float(r['nombre']) / float(ratio[ ratio[col] == r[col] ]['nombre'].sum()), axis=1)\n",
    "\n",
    "    return ratio\n",
    "\n",
    "compute_ratio(df[ df[\"rang\"] == 0 ], 'profondeur')"
   ]
  },
  {
   "cell_type": "code",
   "execution_count": null,
   "metadata": {},
   "outputs": [],
   "source": [
    "def pyramide(df, col, domain=[0,1]):\n",
    "    \n",
    "    base = alt.Chart(compute_ratio(df, col))\n",
    "\n",
    "    x_scale = alt.Scale(domain=domain)\n",
    "    color_scale = alt.Scale(domain=[\"F\", \"M\"], range=[\" #FF851B\",\"#39CCCC \"])\n",
    "\n",
    "    left = base.transform_filter(\n",
    "        alt.datum.genre == \"F\"\n",
    "    ).encode(\n",
    "        y = alt.Y(\"{}:O\".format(col), axis=None),\n",
    "        x = alt.X('proportion:Q',\n",
    "                  title=\"\",\n",
    "                  sort=alt.SortOrder('descending'),\n",
    "                  scale=x_scale,\n",
    "                  axis=alt.Axis(format='.0%')\n",
    "                 ),\n",
    "        color = alt.Color('genre:N', scale=color_scale, legend=None)\n",
    "    ).mark_bar(clip=True).properties(title={\"text\": \"👩\", \"anchor\": \"end\"})\n",
    "\n",
    "    middle = base.encode(\n",
    "        y = alt.Y(\"{}:O\".format(col), axis=None, title=\"Niveau hiérarchique du service\"),\n",
    "        text = alt.Text('{}:N'.format(col)),\n",
    "    ).mark_text().properties(width=10)\n",
    "    #.properties(title=\"Niveau hiérarchique du service\")\n",
    "\n",
    "    right = base.transform_filter(\n",
    "        alt.datum.genre == \"M\"\n",
    "    ).encode(\n",
    "        y = alt.Y(\"{}:O\".format(col), axis=None),\n",
    "        x = alt.X('proportion:Q', title=\"\", scale=x_scale, axis=alt.Axis(format='.0%')),\n",
    "        color = alt.Color('genre:N', scale=color_scale, legend=None)\n",
    "    ).mark_bar(clip=True).properties(title={\"text\": \"👨\", \"anchor\": \"start\"})\n",
    "\n",
    "    return alt.hconcat(\n",
    "        left, middle, right\n",
    "    ).properties(\n",
    "        background=\"#ffffff\",\n",
    "        title={\"text\": \"Répartition par genre du chef / de la cheffe de service\", \"anchor\": \"middle\"},\n",
    "        padding=20\n",
    "    ).configure_title(\n",
    "        fontSize=20,\n",
    "    ).configure_axisY(\n",
    "        titleAngle=0,\n",
    "        titleAlign=\"right\"\n",
    "    )\n",
    "\n",
    "pyramide(df[ (df[\"rang\"] == 0) & (df['profondeur'] <  6 ) ], \"profondeur\")"
   ]
  },
  {
   "cell_type": "code",
   "execution_count": null,
   "metadata": {},
   "outputs": [],
   "source": []
  }
 ],
 "metadata": {
  "kernelspec": {
   "display_name": "Python 3",
   "language": "python",
   "name": "python3"
  },
  "language_info": {
   "codemirror_mode": {
    "name": "ipython",
    "version": 3
   },
   "file_extension": ".py",
   "mimetype": "text/x-python",
   "name": "python",
   "nbconvert_exporter": "python",
   "pygments_lexer": "ipython3",
   "version": "3.6.6"
  }
 },
 "nbformat": 4,
 "nbformat_minor": 2
}
