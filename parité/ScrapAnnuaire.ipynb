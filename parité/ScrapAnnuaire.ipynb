{
 "cells": [
  {
   "cell_type": "markdown",
   "metadata": {},
   "source": [
    "# Traitement des données de la commande publique"
   ]
  },
  {
   "cell_type": "markdown",
   "metadata": {},
   "source": [
    "** Prétraitement des données de la commande publique pour le hackathon Etalab du Forum pour la paix **"
   ]
  },
  {
   "cell_type": "code",
   "execution_count": null,
   "metadata": {},
   "outputs": [],
   "source": [
    "from bs4 import BeautifulSoup\n",
    "import urllib\n",
    "import re\n",
    "import requests\n",
    "from urllib.request import urlopen\n",
    "import codecs\n",
    "import xml.etree.ElementTree as etree\n",
    "import pandas as pd\n",
    "import bs4\n",
    "import json\n",
    "import os\n",
    "import numpy as np\n",
    "import unicodedata"
   ]
  },
  {
   "cell_type": "code",
   "execution_count": null,
   "metadata": {},
   "outputs": [],
   "source": [
    "pd.options.mode.chained_assignment = None  # default='warn'"
   ]
  },
  {
   "cell_type": "markdown",
   "metadata": {},
   "source": [
    "## Liste des services de l'annuaire"
   ]
  },
  {
   "cell_type": "markdown",
   "metadata": {},
   "source": [
    "Boucle sur le répertoire **repo** défini ci-dessus pour extraire tous les liens xml. \n",
    "/!\\ Il faudra traiter séparément le cas des json (actuellement, 4 fichiers tous xml)"
   ]
  },
  {
   "cell_type": "code",
   "execution_count": null,
   "metadata": {},
   "outputs": [],
   "source": [
    "racine = \"https://lannuaire.service-public.fr/\"\n",
    "branches = [\"gouvernement\", \"institutions-juridictions\", \"autorites-independantes\", \"ambassades\", \"institutions-europeennes\"]\n",
    "branches = [racine + branche for branche in branches]\n",
    "branches_sauvegarde = []"
   ]
  },
  {
   "cell_type": "code",
   "execution_count": null,
   "metadata": {},
   "outputs": [],
   "source": [
    "while len(branches) >0 : \n",
    "    print('Nouveau tour')\n",
    "    branches_new = []\n",
    "    for i, url in enumerate(branches) :\n",
    "        print(i, url)\n",
    "        branches_sauvegarde.append(url)\n",
    "        \n",
    "        html_page = urllib.request.urlopen(url)\n",
    "        soup = BeautifulSoup(html_page, 'lxml')\n",
    "\n",
    "        # Organisations\n",
    "        for l0 in soup.find_all('li', itemprop = \"Organization\") :\n",
    "            for l1 in l0.find_all('a') : \n",
    "                lien = l1['href']\n",
    "                if lien not in branches_sauvegarde and lien not in branches_new: # Pour éviter les boucles à répétition\n",
    "                    branches_new.append(lien)\n",
    "    branches = branches_new              "
   ]
  },
  {
   "cell_type": "code",
   "execution_count": null,
   "metadata": {},
   "outputs": [],
   "source": [
    "print(len(branches_sauvegarde))"
   ]
  },
  {
   "cell_type": "markdown",
   "metadata": {},
   "source": [
    "## Chargement des pages"
   ]
  },
  {
   "cell_type": "code",
   "execution_count": null,
   "metadata": {},
   "outputs": [],
   "source": [
    "with open('liens_bruts.txt', 'w') as f:\n",
    "    for item in branches_sauvegarde:\n",
    "        f.write(\"%s\\n\" % item)"
   ]
  },
  {
   "cell_type": "code",
   "execution_count": null,
   "metadata": {},
   "outputs": [],
   "source": [
    "if not os.path.exists(\"Pages\"):\n",
    "    os.makedirs(\"Pages\")"
   ]
  },
  {
   "cell_type": "code",
   "execution_count": null,
   "metadata": {},
   "outputs": [],
   "source": [
    "import urllib.request\n",
    "import re\n",
    "\n",
    "for url in branches_sauvegarde :\n",
    "    url_light = re.sub('^https://lannuaire.service-public.fr/', '', url)\n",
    "    url_light = url_light.replace('/', '_')\n",
    "    \n",
    "    nom_sauvegarde = 'Pages/' + url_light + '.html'\n",
    "    print(nom_sauvegarde)\n",
    "    if nom_sauvegarde == \".html\" :\n",
    "        continue\n",
    "    urllib.request.urlretrieve(url, nom_sauvegarde)"
   ]
  },
  {
   "cell_type": "code",
   "execution_count": null,
   "metadata": {},
   "outputs": [],
   "source": [
    "from os import listdir\n",
    "from os.path import isfile, join\n",
    "pages_chargees = [f for f in listdir('Pages/') if isfile(join('Pages/', f))]\n",
    "pages_chargees[0:10]"
   ]
  },
  {
   "cell_type": "code",
   "execution_count": null,
   "metadata": {},
   "outputs": [],
   "source": [
    "url_light = [re.sub('^https://lannuaire.service-public.fr/', '', f) for f in branches_sauvegarde]\n",
    "url_light = [f.replace('/', '_') + \".html\" for f in url_light]"
   ]
  },
  {
   "cell_type": "code",
   "execution_count": null,
   "metadata": {},
   "outputs": [],
   "source": [
    "non_telechargees = list(set(pages_chargees) - set(url_light))\n",
    "non_telechargees"
   ]
  },
  {
   "cell_type": "markdown",
   "metadata": {},
   "source": [
    "## Extraction des informations"
   ]
  },
  {
   "cell_type": "code",
   "execution_count": null,
   "metadata": {},
   "outputs": [],
   "source": [
    "annuaire = []"
   ]
  },
  {
   "cell_type": "code",
   "execution_count": null,
   "metadata": {},
   "outputs": [],
   "source": [
    "for page in pages_chargees : \n",
    "    nom_complet = \"Pages/\" + page\n",
    "    #print(nom_complet)\n",
    "    f = codecs.open(nom_complet, 'r', 'utf-8')\n",
    "    document = BeautifulSoup(f.read(), \"lxml\")\n",
    "\n",
    "    #Hiérarchie\n",
    "    hierarchie = document.findAll('div', class_ = \"breadcrumb\")[0].text\n",
    "    hierarchie = hierarchie.split('>')[1:-1]\n",
    "    hierarchie = [s.replace('\\xa0', '') for s in hierarchie]\n",
    "    hierarchie = \" > \".join(hierarchie)\n",
    "\n",
    "    # Nom du service\n",
    "    service = document.findAll('h1', id = \"contentTitle\")[0].text\n",
    "\n",
    "    #Boucle sur les personnes\n",
    "    personnes = document.findAll('p', itemprop = \"jobTitle\")\n",
    "    for personne in personnes :\n",
    "\n",
    "        try : \n",
    "            titre = personne.text\n",
    "        except : \n",
    "            titre = ''\n",
    "        try : \n",
    "            nom = personne.next_sibling.text\n",
    "        except : \n",
    "            nom = ''\n",
    "        entree = {\"page\" : nom_complet, \"nom_service\" : service, \"hierarchie\" : hierarchie, \"titre\" : titre, \"personne\" : nom}\n",
    "        annuaire.append(entree)"
   ]
  },
  {
   "cell_type": "code",
   "execution_count": null,
   "metadata": {},
   "outputs": [],
   "source": [
    "annuaire = pd.DataFrame(annuaire)\n",
    "annuaire = annuaire.replace(\"\\\\n\",' ', regex=True) \n",
    "annuaire.to_csv('annuaire.csv', sep=';', encoding='utf-8', index=False)"
   ]
  },
  {
   "cell_type": "markdown",
   "metadata": {},
   "source": [
    "## Post-traitement pour nettoyer, uniformiser"
   ]
  },
  {
   "cell_type": "code",
   "execution_count": null,
   "metadata": {},
   "outputs": [],
   "source": [
    "annuaire = pd.read_csv('annuaire.csv', header=0, sep = ';')\n",
    "#annuaire = annuaire.drop(['page', 'hierarchie', 'nom_service'], axis=1)\n",
    "\n",
    "# Si identité absente\n",
    "annuaire['personne'] = annuaire['personne'].fillna('Non communiqué')\n",
    "annuaire.head()"
   ]
  },
  {
   "cell_type": "code",
   "execution_count": null,
   "metadata": {},
   "outputs": [],
   "source": [
    "# Ajout d'un ordre d'apparition sur la page\n",
    "annuaire['rang'] = annuaire.groupby('page').cumcount()\n",
    "annuaire['profondeur'] = annuaire.apply(lambda row : row['hierarchie'].count('>'), axis = 1)\n",
    "annuaire.head()"
   ]
  },
  {
   "cell_type": "code",
   "execution_count": null,
   "metadata": {},
   "outputs": [],
   "source": [
    "def retirerCaracteresSpeciaux(chaine) :\n",
    "    chaine = unicodedata.normalize('NFD', chaine).encode('ascii', 'ignore').decode('utf-8')\n",
    "    return(chaine)"
   ]
  },
  {
   "cell_type": "code",
   "execution_count": null,
   "metadata": {},
   "outputs": [],
   "source": [
    "def separerTitre (chaine) :\n",
    "    regex_Titre = '^(.*), (.*)$'\n",
    "    if re.search(regex_Titre, chaine) : \n",
    "        return(re.search(regex_Titre, chaine).groups())\n",
    "    else : \n",
    "        return(['',''])"
   ]
  },
  {
   "cell_type": "code",
   "execution_count": null,
   "metadata": {},
   "outputs": [],
   "source": [
    "def separerPrenomNomTitre (chaine) :\n",
    "    regex_prenomNomTitre = '^([A-Za-z \\-\\']*?) ([A-Z \\-\\']{2,})(|, *)($|[,A-Za-z -\\']*)'\n",
    "    if re.search(regex_prenomNomTitre, chaine) : \n",
    "        return(re.search(regex_prenomNomTitre, chaine).groups())\n",
    "    else : \n",
    "        return(['', '','', ''])"
   ]
  },
  {
   "cell_type": "code",
   "execution_count": null,
   "metadata": {},
   "outputs": [],
   "source": [
    "annuaire['personne'] = annuaire.apply(lambda row: retirerCaracteresSpeciaux(row['personne']), axis=1)\n",
    "annuaire['titre'] = annuaire.apply(lambda row: retirerCaracteresSpeciaux(row['titre']), axis=1)"
   ]
  },
  {
   "cell_type": "code",
   "execution_count": null,
   "metadata": {},
   "outputs": [],
   "source": [
    "annuaire['prenom'] = annuaire.apply(lambda row: separerPrenomNomTitre(row['personne'])[0], axis=1)\n",
    "annuaire['nom'] = annuaire.apply(lambda row: separerPrenomNomTitre(row['personne'])[1], axis=1)\n",
    "annuaire['corps'] = annuaire.apply(lambda row: separerPrenomNomTitre(row['personne'])[3], axis=1)\n",
    "annuaire['corps'] = annuaire.apply(lambda row: row['corps'].replace(', ', ''), axis=1)"
   ]
  },
  {
   "cell_type": "code",
   "execution_count": null,
   "metadata": {},
   "outputs": [],
   "source": [
    "annuaire['prenom'] = annuaire['prenom'].str.upper()\n",
    "annuaire.head()"
   ]
  },
  {
   "cell_type": "code",
   "execution_count": null,
   "metadata": {},
   "outputs": [],
   "source": [
    "annuaire.shape"
   ]
  },
  {
   "cell_type": "markdown",
   "metadata": {},
   "source": [
    "### Chargement et prétraitement de la base prénom"
   ]
  },
  {
   "cell_type": "code",
   "execution_count": null,
   "metadata": {},
   "outputs": [],
   "source": [
    "# Chargement de la base prenoms\n",
    "prenoms = pd.read_csv('nat2017.txt', sep = '\\t')\n",
    "prenoms['sexe'] = prenoms['sexe'].map({2 : 'female', 1: 'male'})\n",
    "prenoms = prenoms.groupby(['sexe', 'preusuel'])['nombre'].sum().reset_index()\n",
    "prenoms['preusuel'] = prenoms.apply(lambda row: retirerCaracteresSpeciaux(row['preusuel']), axis=1)\n",
    "prenoms = prenoms.groupby(['sexe', 'preusuel'])['nombre'].sum().reset_index() # On somme à nouveau car variantes dues aux accents\n",
    "\n",
    "prenoms = prenoms.pivot(index = 'preusuel', columns = 'sexe', values = 'nombre').reset_index()\n",
    "\n",
    "prenoms = prenoms.fillna(0)\n",
    "prenoms['total'] = prenoms['female'] + prenoms['male']\n",
    "prenoms['propMale'] = prenoms['male']/prenoms['total']\n",
    "\n",
    "prenoms.head()"
   ]
  },
  {
   "cell_type": "code",
   "execution_count": null,
   "metadata": {},
   "outputs": [],
   "source": [
    "prenoms.to_csv('prenoms_light.csv', sep=';', encoding='utf-8', index=False)\n",
    "print(prenoms.shape)"
   ]
  },
  {
   "cell_type": "markdown",
   "metadata": {},
   "source": [
    "### Jointure annuaire / prénoms"
   ]
  },
  {
   "cell_type": "code",
   "execution_count": null,
   "metadata": {},
   "outputs": [],
   "source": [
    "annuaire_genre = annuaire.merge(prenoms[['preusuel', 'propMale']], left_on='prenom', right_on='preusuel', \n",
    "                      left_index = True, how = 'left', indicator = True)\n",
    "annuaire_genre = annuaire_genre.reset_index()\n",
    "annuaire_genre = annuaire_genre.drop(['index'], axis=1)\n",
    "\n",
    "annuaire_genre['genre'] = np.NaN\n",
    "annuaire_genre.loc[annuaire_genre['propMale']>0.95, 'genre'] = 'M'\n",
    "annuaire_genre.loc[annuaire_genre['propMale']<0.02, 'genre'] = 'F'\n",
    "annuaire_genre.head()"
   ]
  },
  {
   "cell_type": "code",
   "execution_count": null,
   "metadata": {},
   "outputs": [],
   "source": [
    "titreF = ['directrice', 'cheffe', 'conseillere', 'presidente', 'generale', 'deleguee',\n",
    " 'chargee', 'agente', 'adjointe', 'ambassadrice', 'consule', 'administratrice', 'elue']\n",
    "titreM = ['ambassadeur', 'president', 'chef', 'directeur', 'controleur', 'conseiller', 'inspecteur', \n",
    " 'adjoint', 'controleur', 'delegue', 'charge', 'coordonnateur', 'general','agent', 'elu', 'commandant', 'lieutenant']\n",
    "\n",
    "prenomsF = ['MARITSA', 'CERA', 'URWANA', 'EVGENIA', 'YASMINE-EVA', 'EDWIGE', 'HELEN']\n",
    "prenomsH = ['ETIENNE-MARTIN', 'GARIN', 'THIERRY-OLIVIER', 'VALERY']"
   ]
  },
  {
   "cell_type": "code",
   "execution_count": null,
   "metadata": {},
   "outputs": [],
   "source": [
    "for i, row in annuaire_genre.iterrows():\n",
    "    \n",
    "    # Si mot féminin présent dans le titre\n",
    "    if pd.isnull(row[\"genre\"]) and row['personne'] != 'Non communique':\n",
    "        mots = row[\"titre\"].replace(',',' ').replace('-', ' ').split()\n",
    "        mots = [m.lower() for m in mots]\n",
    "        \n",
    "        #print(mots)\n",
    "        if any(titre_termes in mots for titre_termes in titreF) or row['prenom'] in prenomsF :\n",
    "            #print('femme  ', row['titre'])\n",
    "            annuaire_genre.loc[i,'genre'] = 'F'\n",
    "        elif any(titre_termes in mots for titre_termes in titreM) or row['prenom'] in prenomsH :\n",
    "            #print('homme  ', row['titre'])\n",
    "            annuaire_genre.loc[i,'genre'] = 'M'\n",
    "        # On tranche en affectant le genre le plus fréquent du nom\n",
    "        else : \n",
    "            if annuaire_genre.loc[i,'propMale']> 0.5 : \n",
    "                annuaire_genre.loc[i,'genre'] = 'M'\n",
    "            else :\n",
    "                annuaire_genre.loc[i,'genre'] = 'F'\n",
    "        "
   ]
  },
  {
   "cell_type": "code",
   "execution_count": null,
   "metadata": {},
   "outputs": [],
   "source": [
    "restant = annuaire_genre[(pd.isnull(annuaire_genre['genre'])) & (annuaire_genre['personne'] != \"Non communique\")]\n",
    "restant"
   ]
  },
  {
   "cell_type": "code",
   "execution_count": null,
   "metadata": {},
   "outputs": [],
   "source": [
    "annuaire_genre.to_csv('annuaire_genre.csv', sep=';', encoding='utf-8', index=False)"
   ]
  },
  {
   "cell_type": "code",
   "execution_count": null,
   "metadata": {},
   "outputs": [],
   "source": [
    "annuaire_genre[annuaire_genre['prenom'] == 'CAMILLE']"
   ]
  },
  {
   "cell_type": "markdown",
   "metadata": {},
   "source": [
    "## Premières analyses"
   ]
  },
  {
   "cell_type": "code",
   "execution_count": null,
   "metadata": {},
   "outputs": [],
   "source": [
    "def traitementHierarchie (chaine) :\n",
    "    chaine = chaine.split('>')\n",
    "    chaine = [e.lstrip().rstrip() for e in chaine]\n",
    "    chaine = [e for e in chaine if e != '']\n",
    "    chaine = list(set(chaine))\n",
    "\n",
    "    return([chaine, len(chaine)])"
   ]
  },
  {
   "cell_type": "code",
   "execution_count": null,
   "metadata": {},
   "outputs": [],
   "source": [
    "annuaire_genre['profondeur'] = annuaire_genre.apply(lambda row : traitementHierarchie(row['hierarchie'])[1], axis = 1)"
   ]
  },
  {
   "cell_type": "code",
   "execution_count": null,
   "metadata": {},
   "outputs": [],
   "source": [
    "annuaire_genre.head()"
   ]
  },
  {
   "cell_type": "code",
   "execution_count": null,
   "metadata": {},
   "outputs": [],
   "source": [
    "#annuaire_genre.loc[(annuaire_genre['rang']==0)], ['genre', 'profondeur']].value_counts()\n",
    "ratio = annuaire_genre.loc[annuaire_genre['rang']<1].groupby(['genre', 'profondeur']).size().reset_index()\n",
    "ratio.columns = ['genre', 'profondeur', 'nombre']\n",
    "ratio = ratio.pivot(index = 'profondeur', columns = 'genre', values = 'nombre').reset_index()\n",
    "\n",
    "ratio = ratio.fillna(0)\n",
    "ratio['propMale'] = ratio['M']/(ratio['F'] + ratio['M'])\n",
    "ratio"
   ]
  },
  {
   "cell_type": "code",
   "execution_count": null,
   "metadata": {},
   "outputs": [],
   "source": [
    "1862/(1862+3669)"
   ]
  },
  {
   "cell_type": "code",
   "execution_count": null,
   "metadata": {},
   "outputs": [],
   "source": []
  }
 ],
 "metadata": {
  "kernelspec": {
   "display_name": "Python 3",
   "language": "python",
   "name": "python3"
  },
  "language_info": {
   "codemirror_mode": {
    "name": "ipython",
    "version": 3
   },
   "file_extension": ".py",
   "mimetype": "text/x-python",
   "name": "python",
   "nbconvert_exporter": "python",
   "pygments_lexer": "ipython3",
   "version": "3.6.6"
  }
 },
 "nbformat": 4,
 "nbformat_minor": 2
}
