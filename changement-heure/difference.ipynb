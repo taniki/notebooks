{
 "cells": [
  {
   "cell_type": "code",
   "execution_count": null,
   "metadata": {},
   "outputs": [],
   "source": [
    "import datetime as dt\n",
    "from datetime import datetime\n",
    "\n",
    "import pandas as pd\n",
    "import numpy as np\n",
    "import altair as alt\n",
    "import holoviews as hv\n",
    "\n",
    "from skyfield.api import load\n",
    "from skyfield.api import Topos\n",
    "from skyfield import almanac\n",
    "\n",
    "from pytz import timezone\n",
    "\n",
    "hv.extension('bokeh')\n",
    "\n",
    "ts = load.timescale()\n",
    "e = load('de421.bsp')"
   ]
  },
  {
   "cell_type": "code",
   "execution_count": null,
   "metadata": {
    "tags": [
     "parameters"
    ]
   },
   "outputs": [],
   "source": [
    "year = 2018\n",
    "place = \"Paris\"\n",
    "point = (\"48.864716 N\", \"2.349014 E\")\n",
    "up = \"07:00:00\"\n",
    "down = \"23:59:00\""
   ]
  },
  {
   "cell_type": "code",
   "execution_count": null,
   "metadata": {},
   "outputs": [],
   "source": [
    "loc = Topos(*point)"
   ]
  },
  {
   "cell_type": "code",
   "execution_count": null,
   "metadata": {},
   "outputs": [],
   "source": [
    "locations = [\n",
    "    (\"Paris\", Topos(*(\"48.864716 N\", \"2.349014 E\"))),\n",
    "    (\"Brest\", Topos(*(\"48.4000000 N\", \"4.4833300 W\"))),\n",
    "    (\"Strasbourg\", Topos(*(\"48.5839200 N\", \"7.7455300 E\")))\n",
    "]"
   ]
  },
  {
   "cell_type": "code",
   "execution_count": null,
   "metadata": {},
   "outputs": [],
   "source": [
    "modes = [\"dst\", \"winter\", \"summer\"]"
   ]
  },
  {
   "cell_type": "code",
   "execution_count": null,
   "metadata": {},
   "outputs": [],
   "source": [
    "def compute(year, loc):\n",
    "    start = ts.utc(year, 1, 1)\n",
    "    end = ts.utc(year, 12, 31)\n",
    "    \n",
    "    t, y = almanac.find_discrete(start, end, almanac.sunrise_sunset(e, loc))\n",
    "    \n",
    "    sunrises = t[::2]\n",
    "    sunsets = t[1::2]\n",
    "    \n",
    "    df = pd.DataFrame(index=range(len(sunrises)))\n",
    "\n",
    "    def to_time(date):\n",
    "        return np.datetime64(date.strftime(\"1970-01-01 %H:%M:%S\"))\n",
    "\n",
    "    \n",
    "    df[\"sunrise\"] = sunrises.utc_datetime()\n",
    "    df[\"sunset\"] = sunsets.utc_datetime()\n",
    "\n",
    "    df[\"day\"] = df[\"sunrise\"].apply(lambda x: np.datetime64(x.strftime(\"%Y-%m-%d\")))\n",
    "    \n",
    "    df[\"dst_sunrise\"] = sunrises.astimezone(timezone(\"Europe/Paris\"))\n",
    "    df[\"dst_sunset\"] = sunsets.astimezone(timezone(\"Europe/Paris\"))\n",
    "    \n",
    "    df[\"dst_sunrise\"] = df[\"dst_sunrise\"].apply(lambda x: np.datetime64(x.strftime(\"1970-01-01 %H:%M:%S\")))\n",
    "    df[\"dst_sunset\"] = df[\"dst_sunset\"].apply(lambda x: np.datetime64(x.strftime(\"1970-01-01 %H:%M:%S\")))\n",
    "    \n",
    "    df[\"winter_sunrise\"] = df[\"sunrise\"].apply( lambda x: to_time(x.replace(tzinfo=None)  + pd.DateOffset(hours=1)) )\n",
    "    df[\"winter_sunset\"] = df[\"sunset\"].apply( lambda x: to_time(x.replace(tzinfo=None)  + pd.DateOffset(hours=1)) )\n",
    "\n",
    "    df[\"summer_sunrise\"] = df[\"sunrise\"].apply( lambda x: to_time(x.replace(tzinfo=None) + pd.DateOffset(hours=2)) )\n",
    "    df[\"summer_sunset\"] = df[\"sunset\"].apply( lambda x: to_time(x.replace(tzinfo=None)  + pd.DateOffset(hours=2)) )\n",
    "    \n",
    "    return df\n",
    "\n",
    "\n",
    "df = compute(year, loc)"
   ]
  },
  {
   "cell_type": "code",
   "execution_count": null,
   "metadata": {},
   "outputs": [],
   "source": [
    "df.max()"
   ]
  },
  {
   "cell_type": "code",
   "execution_count": null,
   "metadata": {},
   "outputs": [],
   "source": [
    "df.min()"
   ]
  },
  {
   "cell_type": "code",
   "execution_count": null,
   "metadata": {},
   "outputs": [],
   "source": [
    "%opts Area [bgcolor=\"#001f3f\" xticks=3] (line_color=\"white\" line_width=3 fill_color=\"#FFDC00\")\n",
    "%opts HLine (line_color=\"#7FDBFF\" line_width=1)\n",
    "\n",
    "def charts(df):\n",
    "\n",
    "    dst, winter, summer = [ hv.Area(df, kdims=['day'], vdims=['{}_sunrise'.format(m), '{}_sunset'.format(m)], label=m) for m in modes ]\n",
    "\n",
    "    day = (np.datetime64(\"1970-01-01 00:00:00\"),np.datetime64(\"1970-01-01 23:59:59\"))\n",
    "\n",
    "    line_up = hv.HLine(np.datetime64(\"1970-01-01 {}\".format(up)))\n",
    "    line_down = hv.HLine(np.datetime64(\"1970-01-01 {}\".format(down)))\n",
    "\n",
    "    dst = dst.redim(dst_sunrise=hv.Dimension('dst_sunrise', range=day)).opts(width=500, height=360)\n",
    "    winter = winter.redim(winter_sunrise=hv.Dimension('winter_sunrise', range=day)).opts(width=500, height=360)\n",
    "    summer = summer.redim(summer_sunrise=hv.Dimension('summer_sunrise', range=day)).opts(width=500, height=360)\n",
    "\n",
    "    return (line_up * line_down * (dst + winter + summer))\n",
    "\n",
    "hv.output(charts(df), fig='png')"
   ]
  },
  {
   "cell_type": "code",
   "execution_count": null,
   "metadata": {},
   "outputs": [],
   "source": [
    "def lighting(df, mode, up, down):\n",
    "    e_morning = df[\"{}_sunrise\".format(mode)] - np.datetime64(\"1970-01-01 {}\".format(up))\n",
    "    e_evening = np.datetime64(\"1970-01-01 {}\".format(down)) - df[\"{}_sunset\".format(mode)]\n",
    "    \n",
    "    e = e_morning[ e_morning > dt.timedelta(0)].sum() + e_evening[ e_evening > dt.timedelta(0)].sum()\n",
    "    \n",
    "    return e\n",
    "\n",
    "def sun(df, mode, up, down):\n",
    "    total = df[\"{}_sunset\".format(mode)] - df[\"{}_sunrise\".format(mode)]\n",
    "    sleep_sun = np.datetime64(\"1970-01-01 {}\".format(up)) - df[\"{}_sunrise\".format(mode)]\n",
    "    s = total.sum() - (sleep_sun[sleep_sun > dt.timedelta(0)].sum())\n",
    "    \n",
    "    return s\n",
    "\n",
    "def summary(year, place, loc, up, down, functions):\n",
    "    df = compute(year, loc)\n",
    "\n",
    "    rows = [ (year, place, up, down, m, f[0], f[1](df, m, up, down).total_seconds(), f[1](df, m, up, down)) for m in modes for f in functions ]\n",
    "    \n",
    "    df_results = pd.DataFrame(rows,columns=[\"year\", \"place\", \"up\", \"down\", \"mode\", \"energy\", \"seconds\", \"timedelta\"])\n",
    "\n",
    "    return df_results\n",
    "\n",
    "comp = pd.concat([ summary(year, place, loc, up, down, [(\"sun\", sun), (\"lighting\", lighting)]) for place, loc in locations ])\n",
    "\n",
    "comp"
   ]
  },
  {
   "cell_type": "code",
   "execution_count": null,
   "metadata": {},
   "outputs": [],
   "source": [
    "def diff(df, ref, var):\n",
    "    gr = df[ df[\"mode\"].isin(ref) ].groupby([\"year\", \"place\", \"up\", \"down\", \"energy\"])\n",
    "    gv = df[ df[\"mode\"].isin(var) ].groupby([\"year\", \"place\", \"up\", \"down\", \"energy\"])\n",
    " \n",
    "    def dst_delta(n,g):\n",
    "        dst = gr.get_group(n)[\"timedelta\"]\n",
    "        delta = g.apply(lambda x: x[\"timedelta\"] - dst, axis=1)\n",
    "    \n",
    "        return pd.concat([g, pd.Series(delta[list(delta)[0]],name=\"dst_delta\")], axis=1)\n",
    "    \n",
    "    \n",
    "    return [ dst_delta(n,g) for n,g in gv ]\n",
    "\n",
    "    \n",
    "delta = pd.concat(diff(comp, [\"dst\"], [\"dst\",\"winter\", \"summer\"]))\n",
    "\n",
    "delta[\"dst_delta_seconds\"] = delta.apply(lambda x: x['dst_delta'].total_seconds(), axis=1)\n",
    "\n",
    "delta"
   ]
  },
  {
   "cell_type": "code",
   "execution_count": null,
   "metadata": {},
   "outputs": [],
   "source": [
    "delta.pivot_table(index=\"mode\",columns=[\"place\", \"energy\"], values=[\"dst_delta_seconds\"])"
   ]
  },
  {
   "cell_type": "code",
   "execution_count": null,
   "metadata": {},
   "outputs": [],
   "source": [
    "hv.Layout([ hv.Bars(delta[delta['place'] == place ], ['mode', 'energy'], 'dst_delta_seconds', label=place).opts(padding=0.2) for place, loc in locations ])"
   ]
  },
  {
   "cell_type": "code",
   "execution_count": null,
   "metadata": {},
   "outputs": [],
   "source": [
    "import panel as pn\n",
    "import param\n",
    "from holoviews.streams import Params"
   ]
  },
  {
   "cell_type": "code",
   "execution_count": null,
   "metadata": {},
   "outputs": [],
   "source": [
    "class DSTCalc(param.Parameterized):    \n",
    "    place = param.ObjectSelector(default=\"Paris\", objects=[ p for p,l in locations ])\n",
    "    \n",
    "    up = param.Date()\n",
    "    down = param.Date()\n",
    "\n",
    "    @param.depends('place')\n",
    "    def update(self):        \n",
    "        df = compute(2018, [ l for p,l in locations if p == self.place][0])\n",
    "\n",
    "        return hv.Layout(charts(df))\n",
    "    \n",
    "    def table(self):\n",
    "        return delta.pivot_table(index=\"mode\",columns=[\"place\", \"energy\"], values=[\"dst_delta_seconds\"])\n",
    "    \n",
    "    def panel(self):\n",
    "        return pn.Column(self.param, self.update, self.table)\n",
    "\n",
    "calc = DSTCalc()\n",
    "calc.panel()"
   ]
  },
  {
   "cell_type": "code",
   "execution_count": null,
   "metadata": {},
   "outputs": [],
   "source": []
  }
 ],
 "metadata": {
  "kernelspec": {
   "display_name": "Python 3",
   "language": "python",
   "name": "python3"
  },
  "language_info": {
   "codemirror_mode": {
    "name": "ipython",
    "version": 3
   },
   "file_extension": ".py",
   "mimetype": "text/x-python",
   "name": "python",
   "nbconvert_exporter": "python",
   "pygments_lexer": "ipython3",
   "version": "3.6.6"
  }
 },
 "nbformat": 4,
 "nbformat_minor": 2
}
