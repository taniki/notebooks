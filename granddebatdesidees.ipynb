{
 "cells": [
  {
   "cell_type": "code",
   "execution_count": null,
   "metadata": {},
   "outputs": [],
   "source": [
    "import pygsheets\n",
    "import pandas as pd\n",
    "import altair as alt\n",
    "\n",
    "alt.renderers.enable('default')"
   ]
  },
  {
   "cell_type": "code",
   "execution_count": null,
   "metadata": {},
   "outputs": [],
   "source": [
    "gc = pygsheets.authorize()"
   ]
  },
  {
   "cell_type": "code",
   "execution_count": null,
   "metadata": {},
   "outputs": [],
   "source": [
    "sht1 = gc.open_by_key('1QijK93G8_BdT4n7aLs9IEY9d-lNko4sy-UBIDf6kzw0').worksheet_by_title(\"Sheet1\")"
   ]
  },
  {
   "cell_type": "code",
   "execution_count": null,
   "metadata": {},
   "outputs": [],
   "source": [
    "df = sht1.get_as_df()\n",
    "\n",
    "df.drop(0, inplace=True)\n",
    "\n",
    "df = df[0:65]\n",
    "\n",
    "df.rename(columns={\n",
    "    \"Discipline (d'après site France Culture)\": \"discipline\",\n",
    "    \"Genre H ?\": \"genre\"\n",
    "}, inplace=True)\n",
    "\n",
    "df[\"nom\"] = df.apply(lambda r: r[\"Prénom\"]+\" \"+r[\"Nom\"] , axis=1)\n",
    "\n",
    "df.head()"
   ]
  },
  {
   "cell_type": "code",
   "execution_count": null,
   "metadata": {},
   "outputs": [],
   "source": [
    "df.shape"
   ]
  },
  {
   "cell_type": "code",
   "execution_count": null,
   "metadata": {},
   "outputs": [],
   "source": [
    "df[\"Âge\"] = pd.to_numeric(df[\"Âge\"])"
   ]
  },
  {
   "cell_type": "code",
   "execution_count": null,
   "metadata": {},
   "outputs": [],
   "source": [
    "color_scale = alt.Scale(domain=[\"F\", \"H\"], range=[\"#FF851B\", \"#3D9970\"])\n",
    "\n",
    "chart = alt.Chart(df[[\"nom\", \"Âge\", \"genre\", \"discipline\"]])\n",
    "\n",
    "bars = chart.mark_bar().encode(\n",
    "    y= alt.Y(\"nom:N\", sort=alt.EncodingSortField(field=\"Âge\", op=\"sum\")),\n",
    "    x=\"Âge:Q\",\n",
    "    color=alt.Color(\"genre\", scale=color_scale)\n",
    ")\n",
    "\n",
    "text = bars.mark_text(\n",
    "    align=\"left\",\n",
    "    color=\"black\",\n",
    "    baseline=\"middle\",\n",
    "    dx=3\n",
    ").encode(\n",
    "    text=\"Âge:Q\"\n",
    ")\n",
    "\n",
    "(bars).configure(background=\"white\")"
   ]
  },
  {
   "cell_type": "code",
   "execution_count": null,
   "metadata": {},
   "outputs": [],
   "source": [
    "bars = chart.mark_bar().encode(\n",
    "    y = alt.Y(\"discipline:N\", sort=alt.EncodingSortField(field=\"discipline\", op=\"count\")),\n",
    "    x = \"count(*):Q\",\n",
    "    color=alt.Color(\"genre\", scale=color_scale),\n",
    "    order=alt.Order(\"genre\", sort=\"ascending\")\n",
    ")\n",
    "\n",
    "(bars).configure(background=\"white\")"
   ]
  },
  {
   "cell_type": "code",
   "execution_count": null,
   "metadata": {},
   "outputs": [],
   "source": [
    "bars = chart.mark_text(size=24, baseline=\"middle\").encode(\n",
    "    y = alt.Y(\"genre:O\", axis=None),\n",
    "    x = alt.X(\"n:O\", axis=None),\n",
    "    text= \"emoji:N\",\n",
    "    row= alt.Row('discipline:N',\n",
    "                 sort=alt.EncodingSortField(field=\"nom\", op=\"count\"),\n",
    "                 header=alt.Header(labelAngle=1, title=\"\"))\n",
    ").transform_calculate(\n",
    "    emoji=\"{'F':'👩🏻', 'H':'👨🏻'}[datum.genre]\"\n",
    ").transform_window(\n",
    "    n = 'rank()',\n",
    "    groupby=['discipline', 'genre']\n",
    ").properties(width=400, height=75)\n",
    "\n",
    "(bars).configure(background=\"white\")"
   ]
  },
  {
   "cell_type": "code",
   "execution_count": null,
   "metadata": {},
   "outputs": [],
   "source": [
    "bars = chart.mark_bar().encode(\n",
    "    y = alt.Y(\"discipline:N\", sort=alt.EncodingSortField(field=\"Âge\", op=\"mean\")),\n",
    "    x = \"mean(Âge):Q\"\n",
    ")\n",
    "\n",
    "(bars).configure(background=\"white\")"
   ]
  },
  {
   "cell_type": "code",
   "execution_count": null,
   "metadata": {},
   "outputs": [],
   "source": [
    "bars = chart.mark_bar().encode(\n",
    "    y = alt.Y(\"genre:N\", title=None),\n",
    "    x = \"mean(Âge):Q\",\n",
    "    color = alt.Color(\"genre\", scale=color_scale),\n",
    "    row = alt.Row(\"discipline:N\", sort=alt.EncodingSortField(field=\"Âge\", op=\"mean\"), header=alt.Header(labelAngle=1))\n",
    ")\n",
    "\n",
    "(bars).configure(background=\"white\")"
   ]
  },
  {
   "cell_type": "code",
   "execution_count": null,
   "metadata": {},
   "outputs": [],
   "source": []
  }
 ],
 "metadata": {
  "kernelspec": {
   "display_name": "Python 3",
   "language": "python",
   "name": "python3"
  },
  "language_info": {
   "codemirror_mode": {
    "name": "ipython",
    "version": 3
   },
   "file_extension": ".py",
   "mimetype": "text/x-python",
   "name": "python",
   "nbconvert_exporter": "python",
   "pygments_lexer": "ipython3",
   "version": "3.6.6"
  }
 },
 "nbformat": 4,
 "nbformat_minor": 2
}
